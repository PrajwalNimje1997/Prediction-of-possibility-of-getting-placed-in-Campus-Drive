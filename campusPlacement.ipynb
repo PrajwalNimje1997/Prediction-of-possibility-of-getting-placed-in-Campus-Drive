{
  "nbformat": 4,
  "nbformat_minor": 0,
  "metadata": {
    "colab": {
      "name": "campusPlacement.ipynb",
      "provenance": [],
      "collapsed_sections": []
    },
    "kernelspec": {
      "name": "python3",
      "display_name": "Python 3"
    },
    "language_info": {
      "name": "python"
    }
  },
  "cells": [
    {
      "cell_type": "code",
      "metadata": {
        "id": "5byTLwIomi8D"
      },
      "source": [
        "import pandas as pd\n",
        "import numpy as np\n",
        "from sklearn.model_selection import train_test_split\n",
        "from sklearn.preprocessing import LabelEncoder\n",
        "from sklearn.metrics import accuracy_score\n",
        "from sklearn.ensemble import RandomForestClassifier\n",
        "from sklearn.tree import DecisionTreeClassifier\n",
        "from sklearn.pipeline import Pipeline\n",
        "from sklearn.preprocessing import MinMaxScaler\n",
        "import matplotlib.pyplot as plt\n",
        "from sklearn.model_selection import cross_val_score\n",
        "import seaborn as sns\n",
        "from sklearn.tree import DecisionTreeRegressor\n",
        "from sklearn.linear_model import LogisticRegression\n",
        "from sklearn.model_selection import train_test_split\n",
        "from sklearn.preprocessing import LabelEncoder\n",
        "from sklearn.metrics import accuracy_score\n",
        "from sklearn.discriminant_analysis import QuadraticDiscriminantAnalysis\n",
        "from sklearn.ensemble import RandomForestClassifier, AdaBoostClassifier,GradientBoostingClassifier\n",
        "from sklearn.linear_model import LinearRegression\n",
        "from sklearn.gaussian_process import GaussianProcessClassifier\n",
        "from sklearn.gaussian_process.kernels import RBF\n",
        "from sklearn.naive_bayes import GaussianNB\n",
        "from sklearn.neighbors import KNeighborsClassifier\n",
        "from sklearn.neural_network import MLPClassifier\n",
        "from sklearn.svm import SVC\n",
        "from sklearn.tree import DecisionTreeClassifier\n",
        "from sklearn.linear_model import SGDClassifier\n",
        "from sklearn.pipeline import Pipeline\n",
        "from sklearn.preprocessing import PolynomialFeatures"
      ],
      "execution_count": 129,
      "outputs": []
    },
    {
      "cell_type": "code",
      "metadata": {
        "colab": {
          "resources": {
            "http://localhost:8080/nbextensions/google.colab/files.js": {
              "data": "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",
              "ok": true,
              "headers": [
                [
                  "content-type",
                  "application/javascript"
                ]
              ],
              "status": 200,
              "status_text": ""
            }
          },
          "base_uri": "https://localhost:8080/",
          "height": 72
        },
        "id": "i1QH3uewo4t8",
        "outputId": "603012e5-e7b1-48dc-ba07-39d52f722ac0"
      },
      "source": [
        "import io\n",
        "from google.colab import files\n",
        "\n",
        "trainTsv = files.upload()\n",
        "df11 = pd.read_csv(io.BytesIO(trainTsv['Placement_Data_Full_Class.csv']))"
      ],
      "execution_count": 130,
      "outputs": [
        {
          "output_type": "display_data",
          "data": {
            "text/html": [
              "\n",
              "     <input type=\"file\" id=\"files-42c1a1fb-9fec-46fc-91b9-5a30faafd19e\" name=\"files[]\" multiple disabled\n",
              "        style=\"border:none\" />\n",
              "     <output id=\"result-42c1a1fb-9fec-46fc-91b9-5a30faafd19e\">\n",
              "      Upload widget is only available when the cell has been executed in the\n",
              "      current browser session. Please rerun this cell to enable.\n",
              "      </output>\n",
              "      <script src=\"/nbextensions/google.colab/files.js\"></script> "
            ],
            "text/plain": [
              "<IPython.core.display.HTML object>"
            ]
          },
          "metadata": {
            "tags": []
          }
        },
        {
          "output_type": "stream",
          "text": [
            "Saving Placement_Data_Full_Class.csv to Placement_Data_Full_Class (3).csv\n"
          ],
          "name": "stdout"
        }
      ]
    },
    {
      "cell_type": "code",
      "metadata": {
        "id": "cz_DZ00yOQoj"
      },
      "source": [
        "df1 = df11"
      ],
      "execution_count": 131,
      "outputs": []
    },
    {
      "cell_type": "code",
      "metadata": {
        "colab": {
          "base_uri": "https://localhost:8080/",
          "height": 198
        },
        "id": "M5x7YW7QpNp1",
        "outputId": "785f46ca-d3f1-4981-de43-412c95ceeba9"
      },
      "source": [
        "df1.head()"
      ],
      "execution_count": 132,
      "outputs": [
        {
          "output_type": "execute_result",
          "data": {
            "text/html": [
              "<div>\n",
              "<style scoped>\n",
              "    .dataframe tbody tr th:only-of-type {\n",
              "        vertical-align: middle;\n",
              "    }\n",
              "\n",
              "    .dataframe tbody tr th {\n",
              "        vertical-align: top;\n",
              "    }\n",
              "\n",
              "    .dataframe thead th {\n",
              "        text-align: right;\n",
              "    }\n",
              "</style>\n",
              "<table border=\"1\" class=\"dataframe\">\n",
              "  <thead>\n",
              "    <tr style=\"text-align: right;\">\n",
              "      <th></th>\n",
              "      <th>sl_no</th>\n",
              "      <th>gender</th>\n",
              "      <th>ssc_p</th>\n",
              "      <th>ssc_b</th>\n",
              "      <th>hsc_p</th>\n",
              "      <th>hsc_b</th>\n",
              "      <th>hsc_s</th>\n",
              "      <th>degree_p</th>\n",
              "      <th>degree_t</th>\n",
              "      <th>workex</th>\n",
              "      <th>etest_p</th>\n",
              "      <th>specialisation</th>\n",
              "      <th>mba_p</th>\n",
              "      <th>status</th>\n",
              "      <th>salary</th>\n",
              "    </tr>\n",
              "  </thead>\n",
              "  <tbody>\n",
              "    <tr>\n",
              "      <th>0</th>\n",
              "      <td>1</td>\n",
              "      <td>M</td>\n",
              "      <td>67.00</td>\n",
              "      <td>Others</td>\n",
              "      <td>91.00</td>\n",
              "      <td>Others</td>\n",
              "      <td>Commerce</td>\n",
              "      <td>58.00</td>\n",
              "      <td>Sci&amp;Tech</td>\n",
              "      <td>No</td>\n",
              "      <td>55.0</td>\n",
              "      <td>Mkt&amp;HR</td>\n",
              "      <td>58.80</td>\n",
              "      <td>Placed</td>\n",
              "      <td>270000.0</td>\n",
              "    </tr>\n",
              "    <tr>\n",
              "      <th>1</th>\n",
              "      <td>2</td>\n",
              "      <td>M</td>\n",
              "      <td>79.33</td>\n",
              "      <td>Central</td>\n",
              "      <td>78.33</td>\n",
              "      <td>Others</td>\n",
              "      <td>Science</td>\n",
              "      <td>77.48</td>\n",
              "      <td>Sci&amp;Tech</td>\n",
              "      <td>Yes</td>\n",
              "      <td>86.5</td>\n",
              "      <td>Mkt&amp;Fin</td>\n",
              "      <td>66.28</td>\n",
              "      <td>Placed</td>\n",
              "      <td>200000.0</td>\n",
              "    </tr>\n",
              "    <tr>\n",
              "      <th>2</th>\n",
              "      <td>3</td>\n",
              "      <td>M</td>\n",
              "      <td>65.00</td>\n",
              "      <td>Central</td>\n",
              "      <td>68.00</td>\n",
              "      <td>Central</td>\n",
              "      <td>Arts</td>\n",
              "      <td>64.00</td>\n",
              "      <td>Comm&amp;Mgmt</td>\n",
              "      <td>No</td>\n",
              "      <td>75.0</td>\n",
              "      <td>Mkt&amp;Fin</td>\n",
              "      <td>57.80</td>\n",
              "      <td>Placed</td>\n",
              "      <td>250000.0</td>\n",
              "    </tr>\n",
              "    <tr>\n",
              "      <th>3</th>\n",
              "      <td>4</td>\n",
              "      <td>M</td>\n",
              "      <td>56.00</td>\n",
              "      <td>Central</td>\n",
              "      <td>52.00</td>\n",
              "      <td>Central</td>\n",
              "      <td>Science</td>\n",
              "      <td>52.00</td>\n",
              "      <td>Sci&amp;Tech</td>\n",
              "      <td>No</td>\n",
              "      <td>66.0</td>\n",
              "      <td>Mkt&amp;HR</td>\n",
              "      <td>59.43</td>\n",
              "      <td>Not Placed</td>\n",
              "      <td>NaN</td>\n",
              "    </tr>\n",
              "    <tr>\n",
              "      <th>4</th>\n",
              "      <td>5</td>\n",
              "      <td>M</td>\n",
              "      <td>85.80</td>\n",
              "      <td>Central</td>\n",
              "      <td>73.60</td>\n",
              "      <td>Central</td>\n",
              "      <td>Commerce</td>\n",
              "      <td>73.30</td>\n",
              "      <td>Comm&amp;Mgmt</td>\n",
              "      <td>No</td>\n",
              "      <td>96.8</td>\n",
              "      <td>Mkt&amp;Fin</td>\n",
              "      <td>55.50</td>\n",
              "      <td>Placed</td>\n",
              "      <td>425000.0</td>\n",
              "    </tr>\n",
              "  </tbody>\n",
              "</table>\n",
              "</div>"
            ],
            "text/plain": [
              "   sl_no gender  ssc_p    ssc_b  ...  specialisation  mba_p      status    salary\n",
              "0      1      M  67.00   Others  ...          Mkt&HR  58.80      Placed  270000.0\n",
              "1      2      M  79.33  Central  ...         Mkt&Fin  66.28      Placed  200000.0\n",
              "2      3      M  65.00  Central  ...         Mkt&Fin  57.80      Placed  250000.0\n",
              "3      4      M  56.00  Central  ...          Mkt&HR  59.43  Not Placed       NaN\n",
              "4      5      M  85.80  Central  ...         Mkt&Fin  55.50      Placed  425000.0\n",
              "\n",
              "[5 rows x 15 columns]"
            ]
          },
          "metadata": {
            "tags": []
          },
          "execution_count": 132
        }
      ]
    },
    {
      "cell_type": "markdown",
      "metadata": {
        "id": "exKs9ri1zfbl"
      },
      "source": [
        "####**Exploratory Data Analysis**"
      ]
    },
    {
      "cell_type": "code",
      "metadata": {
        "id": "DddRgq-T0AMs"
      },
      "source": [
        "import matplotlib.pyplot as plt\n",
        "import seaborn as sns\n",
        "import plotly.graph_objs as go\n",
        "from plotly.subplots import make_subplots\n",
        "import plotly.express as px"
      ],
      "execution_count": 133,
      "outputs": []
    },
    {
      "cell_type": "code",
      "metadata": {
        "colab": {
          "base_uri": "https://localhost:8080/",
          "height": 417
        },
        "id": "nF4ng2FF0AXi",
        "outputId": "cfcc048e-2915-4b67-a558-b55ff81278ae"
      },
      "source": [
        "#Number of student placed and not placed\n",
        "fig = px.histogram(df1, x='status', color=\"status\", barmode='group',width=600, height=400)\n",
        "fig.show()"
      ],
      "execution_count": 134,
      "outputs": [
        {
          "output_type": "display_data",
          "data": {
            "text/html": [
              "<html>\n",
              "<head><meta charset=\"utf-8\" /></head>\n",
              "<body>\n",
              "    <div>\n",
              "            <script src=\"https://cdnjs.cloudflare.com/ajax/libs/mathjax/2.7.5/MathJax.js?config=TeX-AMS-MML_SVG\"></script><script type=\"text/javascript\">if (window.MathJax) {MathJax.Hub.Config({SVG: {font: \"STIX-Web\"}});}</script>\n",
              "                <script type=\"text/javascript\">window.PlotlyConfig = {MathJaxConfig: 'local'};</script>\n",
              "        <script src=\"https://cdn.plot.ly/plotly-latest.min.js\"></script>    \n",
              "            <div id=\"13444918-c215-4b5d-84f6-db3318bf342b\" class=\"plotly-graph-div\" style=\"height:400px; width:600px;\"></div>\n",
              "            <script type=\"text/javascript\">\n",
              "                \n",
              "                    window.PLOTLYENV=window.PLOTLYENV || {};\n",
              "                    \n",
              "                if (document.getElementById(\"13444918-c215-4b5d-84f6-db3318bf342b\")) {\n",
              "                    Plotly.newPlot(\n",
              "                        '13444918-c215-4b5d-84f6-db3318bf342b',\n",
              "                        [{\"alignmentgroup\": \"True\", \"bingroup\": \"x\", \"hoverlabel\": {\"namelength\": 0}, \"hovertemplate\": \"status=%{x}<br>count=%{y}\", \"legendgroup\": \"status=Placed\", \"marker\": {\"color\": \"#636efa\"}, \"name\": \"status=Placed\", \"offsetgroup\": \"status=Placed\", \"orientation\": \"v\", \"showlegend\": true, \"type\": \"histogram\", \"x\": [\"Placed\", \"Placed\", \"Placed\", \"Placed\", \"Placed\", \"Placed\", \"Placed\", \"Placed\", \"Placed\", \"Placed\", \"Placed\", \"Placed\", \"Placed\", \"Placed\", \"Placed\", \"Placed\", \"Placed\", \"Placed\", \"Placed\", \"Placed\", \"Placed\", \"Placed\", \"Placed\", \"Placed\", \"Placed\", \"Placed\", \"Placed\", \"Placed\", \"Placed\", \"Placed\", \"Placed\", \"Placed\", \"Placed\", \"Placed\", \"Placed\", \"Placed\", \"Placed\", \"Placed\", \"Placed\", \"Placed\", \"Placed\", \"Placed\", \"Placed\", \"Placed\", \"Placed\", \"Placed\", \"Placed\", \"Placed\", \"Placed\", \"Placed\", \"Placed\", \"Placed\", \"Placed\", \"Placed\", \"Placed\", \"Placed\", \"Placed\", \"Placed\", \"Placed\", \"Placed\", \"Placed\", \"Placed\", \"Placed\", \"Placed\", \"Placed\", \"Placed\", \"Placed\", \"Placed\", \"Placed\", \"Placed\", \"Placed\", \"Placed\", \"Placed\", \"Placed\", \"Placed\", \"Placed\", \"Placed\", \"Placed\", \"Placed\", \"Placed\", \"Placed\", \"Placed\", \"Placed\", \"Placed\", \"Placed\", \"Placed\", \"Placed\", \"Placed\", \"Placed\", \"Placed\", \"Placed\", \"Placed\", \"Placed\", \"Placed\", \"Placed\", \"Placed\", \"Placed\", \"Placed\", \"Placed\", \"Placed\", \"Placed\", \"Placed\", \"Placed\", \"Placed\", \"Placed\", \"Placed\", \"Placed\", \"Placed\", \"Placed\", \"Placed\", \"Placed\", \"Placed\", \"Placed\", \"Placed\", \"Placed\", \"Placed\", \"Placed\", \"Placed\", \"Placed\", \"Placed\", \"Placed\", \"Placed\", \"Placed\", \"Placed\", \"Placed\", \"Placed\", \"Placed\", \"Placed\", \"Placed\", \"Placed\", \"Placed\", \"Placed\", \"Placed\", \"Placed\", \"Placed\", \"Placed\", \"Placed\", \"Placed\", \"Placed\", \"Placed\", \"Placed\", \"Placed\", \"Placed\", \"Placed\", \"Placed\", \"Placed\", \"Placed\", \"Placed\"], \"xaxis\": \"x\", \"yaxis\": \"y\"}, {\"alignmentgroup\": \"True\", \"bingroup\": \"x\", \"hoverlabel\": {\"namelength\": 0}, \"hovertemplate\": \"status=%{x}<br>count=%{y}\", \"legendgroup\": \"status=Not Placed\", \"marker\": {\"color\": \"#EF553B\"}, \"name\": \"status=Not Placed\", \"offsetgroup\": \"status=Not Placed\", \"orientation\": \"v\", \"showlegend\": true, \"type\": \"histogram\", \"x\": [\"Not Placed\", \"Not Placed\", \"Not Placed\", \"Not Placed\", \"Not Placed\", \"Not Placed\", \"Not Placed\", \"Not Placed\", \"Not Placed\", \"Not Placed\", \"Not Placed\", \"Not Placed\", \"Not Placed\", \"Not Placed\", \"Not Placed\", \"Not Placed\", \"Not Placed\", \"Not Placed\", \"Not Placed\", \"Not Placed\", \"Not Placed\", \"Not Placed\", \"Not Placed\", \"Not Placed\", \"Not Placed\", \"Not Placed\", \"Not Placed\", \"Not Placed\", \"Not Placed\", \"Not Placed\", \"Not Placed\", \"Not Placed\", \"Not Placed\", \"Not Placed\", \"Not Placed\", \"Not Placed\", \"Not Placed\", \"Not Placed\", \"Not Placed\", \"Not Placed\", \"Not Placed\", \"Not Placed\", \"Not Placed\", \"Not Placed\", \"Not Placed\", \"Not Placed\", \"Not Placed\", \"Not Placed\", \"Not Placed\", \"Not Placed\", \"Not Placed\", \"Not Placed\", \"Not Placed\", \"Not Placed\", \"Not Placed\", \"Not Placed\", \"Not Placed\", \"Not Placed\", \"Not Placed\", \"Not Placed\", \"Not Placed\", \"Not Placed\", \"Not Placed\", \"Not Placed\", \"Not Placed\", \"Not Placed\", \"Not Placed\"], \"xaxis\": \"x\", \"yaxis\": \"y\"}],\n",
              "                        {\"barmode\": \"group\", \"height\": 400, \"legend\": {\"tracegroupgap\": 0}, \"margin\": {\"t\": 60}, \"template\": {\"data\": {\"bar\": [{\"error_x\": {\"color\": \"#2a3f5f\"}, \"error_y\": {\"color\": \"#2a3f5f\"}, \"marker\": {\"line\": {\"color\": \"#E5ECF6\", \"width\": 0.5}}, \"type\": \"bar\"}], \"barpolar\": [{\"marker\": {\"line\": {\"color\": \"#E5ECF6\", \"width\": 0.5}}, \"type\": \"barpolar\"}], \"carpet\": [{\"aaxis\": {\"endlinecolor\": \"#2a3f5f\", \"gridcolor\": \"white\", \"linecolor\": \"white\", \"minorgridcolor\": \"white\", \"startlinecolor\": \"#2a3f5f\"}, \"baxis\": {\"endlinecolor\": \"#2a3f5f\", \"gridcolor\": \"white\", \"linecolor\": \"white\", \"minorgridcolor\": \"white\", \"startlinecolor\": \"#2a3f5f\"}, \"type\": \"carpet\"}], \"choropleth\": [{\"colorbar\": {\"outlinewidth\": 0, \"ticks\": \"\"}, \"type\": \"choropleth\"}], \"contour\": [{\"colorbar\": {\"outlinewidth\": 0, \"ticks\": \"\"}, \"colorscale\": [[0.0, \"#0d0887\"], [0.1111111111111111, \"#46039f\"], [0.2222222222222222, \"#7201a8\"], [0.3333333333333333, \"#9c179e\"], [0.4444444444444444, \"#bd3786\"], [0.5555555555555556, \"#d8576b\"], [0.6666666666666666, \"#ed7953\"], [0.7777777777777778, \"#fb9f3a\"], [0.8888888888888888, \"#fdca26\"], [1.0, \"#f0f921\"]], \"type\": \"contour\"}], \"contourcarpet\": [{\"colorbar\": {\"outlinewidth\": 0, \"ticks\": \"\"}, \"type\": \"contourcarpet\"}], \"heatmap\": [{\"colorbar\": {\"outlinewidth\": 0, \"ticks\": \"\"}, \"colorscale\": [[0.0, \"#0d0887\"], [0.1111111111111111, \"#46039f\"], [0.2222222222222222, \"#7201a8\"], [0.3333333333333333, \"#9c179e\"], [0.4444444444444444, \"#bd3786\"], [0.5555555555555556, \"#d8576b\"], [0.6666666666666666, \"#ed7953\"], [0.7777777777777778, \"#fb9f3a\"], [0.8888888888888888, \"#fdca26\"], [1.0, \"#f0f921\"]], \"type\": \"heatmap\"}], \"heatmapgl\": [{\"colorbar\": {\"outlinewidth\": 0, \"ticks\": \"\"}, \"colorscale\": [[0.0, \"#0d0887\"], [0.1111111111111111, \"#46039f\"], [0.2222222222222222, \"#7201a8\"], [0.3333333333333333, \"#9c179e\"], [0.4444444444444444, \"#bd3786\"], [0.5555555555555556, \"#d8576b\"], [0.6666666666666666, \"#ed7953\"], [0.7777777777777778, \"#fb9f3a\"], [0.8888888888888888, \"#fdca26\"], [1.0, \"#f0f921\"]], \"type\": \"heatmapgl\"}], \"histogram\": [{\"marker\": {\"colorbar\": {\"outlinewidth\": 0, \"ticks\": \"\"}}, \"type\": \"histogram\"}], \"histogram2d\": [{\"colorbar\": {\"outlinewidth\": 0, \"ticks\": \"\"}, \"colorscale\": [[0.0, \"#0d0887\"], [0.1111111111111111, \"#46039f\"], [0.2222222222222222, \"#7201a8\"], [0.3333333333333333, \"#9c179e\"], [0.4444444444444444, \"#bd3786\"], [0.5555555555555556, \"#d8576b\"], [0.6666666666666666, \"#ed7953\"], [0.7777777777777778, \"#fb9f3a\"], [0.8888888888888888, \"#fdca26\"], [1.0, \"#f0f921\"]], \"type\": \"histogram2d\"}], \"histogram2dcontour\": [{\"colorbar\": {\"outlinewidth\": 0, \"ticks\": \"\"}, \"colorscale\": [[0.0, \"#0d0887\"], [0.1111111111111111, \"#46039f\"], [0.2222222222222222, \"#7201a8\"], [0.3333333333333333, \"#9c179e\"], [0.4444444444444444, \"#bd3786\"], [0.5555555555555556, \"#d8576b\"], [0.6666666666666666, \"#ed7953\"], [0.7777777777777778, \"#fb9f3a\"], [0.8888888888888888, \"#fdca26\"], [1.0, \"#f0f921\"]], \"type\": \"histogram2dcontour\"}], \"mesh3d\": [{\"colorbar\": {\"outlinewidth\": 0, \"ticks\": \"\"}, \"type\": \"mesh3d\"}], \"parcoords\": [{\"line\": {\"colorbar\": {\"outlinewidth\": 0, \"ticks\": \"\"}}, \"type\": \"parcoords\"}], \"pie\": [{\"automargin\": true, \"type\": \"pie\"}], \"scatter\": [{\"marker\": {\"colorbar\": {\"outlinewidth\": 0, \"ticks\": \"\"}}, \"type\": \"scatter\"}], \"scatter3d\": [{\"line\": {\"colorbar\": {\"outlinewidth\": 0, \"ticks\": \"\"}}, \"marker\": {\"colorbar\": {\"outlinewidth\": 0, \"ticks\": \"\"}}, \"type\": \"scatter3d\"}], \"scattercarpet\": [{\"marker\": {\"colorbar\": {\"outlinewidth\": 0, \"ticks\": \"\"}}, \"type\": \"scattercarpet\"}], \"scattergeo\": [{\"marker\": {\"colorbar\": {\"outlinewidth\": 0, \"ticks\": \"\"}}, \"type\": \"scattergeo\"}], \"scattergl\": [{\"marker\": {\"colorbar\": {\"outlinewidth\": 0, \"ticks\": \"\"}}, \"type\": \"scattergl\"}], \"scattermapbox\": [{\"marker\": {\"colorbar\": {\"outlinewidth\": 0, \"ticks\": \"\"}}, \"type\": \"scattermapbox\"}], \"scatterpolar\": [{\"marker\": {\"colorbar\": {\"outlinewidth\": 0, \"ticks\": \"\"}}, \"type\": \"scatterpolar\"}], \"scatterpolargl\": [{\"marker\": {\"colorbar\": {\"outlinewidth\": 0, \"ticks\": \"\"}}, \"type\": \"scatterpolargl\"}], \"scatterternary\": [{\"marker\": {\"colorbar\": {\"outlinewidth\": 0, \"ticks\": \"\"}}, \"type\": \"scatterternary\"}], \"surface\": [{\"colorbar\": {\"outlinewidth\": 0, \"ticks\": \"\"}, \"colorscale\": [[0.0, \"#0d0887\"], [0.1111111111111111, \"#46039f\"], [0.2222222222222222, \"#7201a8\"], [0.3333333333333333, \"#9c179e\"], [0.4444444444444444, \"#bd3786\"], [0.5555555555555556, \"#d8576b\"], [0.6666666666666666, \"#ed7953\"], [0.7777777777777778, \"#fb9f3a\"], [0.8888888888888888, \"#fdca26\"], [1.0, \"#f0f921\"]], \"type\": \"surface\"}], \"table\": [{\"cells\": {\"fill\": {\"color\": \"#EBF0F8\"}, \"line\": {\"color\": \"white\"}}, \"header\": {\"fill\": {\"color\": \"#C8D4E3\"}, \"line\": {\"color\": \"white\"}}, \"type\": \"table\"}]}, \"layout\": {\"annotationdefaults\": {\"arrowcolor\": \"#2a3f5f\", \"arrowhead\": 0, \"arrowwidth\": 1}, \"coloraxis\": {\"colorbar\": {\"outlinewidth\": 0, \"ticks\": \"\"}}, \"colorscale\": {\"diverging\": [[0, \"#8e0152\"], [0.1, \"#c51b7d\"], [0.2, \"#de77ae\"], [0.3, \"#f1b6da\"], [0.4, \"#fde0ef\"], [0.5, \"#f7f7f7\"], [0.6, \"#e6f5d0\"], [0.7, \"#b8e186\"], [0.8, \"#7fbc41\"], [0.9, \"#4d9221\"], [1, \"#276419\"]], \"sequential\": [[0.0, \"#0d0887\"], [0.1111111111111111, \"#46039f\"], [0.2222222222222222, \"#7201a8\"], [0.3333333333333333, \"#9c179e\"], [0.4444444444444444, \"#bd3786\"], [0.5555555555555556, \"#d8576b\"], [0.6666666666666666, \"#ed7953\"], [0.7777777777777778, \"#fb9f3a\"], [0.8888888888888888, \"#fdca26\"], [1.0, \"#f0f921\"]], \"sequentialminus\": [[0.0, \"#0d0887\"], [0.1111111111111111, \"#46039f\"], [0.2222222222222222, \"#7201a8\"], [0.3333333333333333, \"#9c179e\"], [0.4444444444444444, \"#bd3786\"], [0.5555555555555556, \"#d8576b\"], [0.6666666666666666, \"#ed7953\"], [0.7777777777777778, \"#fb9f3a\"], [0.8888888888888888, \"#fdca26\"], [1.0, \"#f0f921\"]]}, \"colorway\": [\"#636efa\", \"#EF553B\", \"#00cc96\", \"#ab63fa\", \"#FFA15A\", \"#19d3f3\", \"#FF6692\", \"#B6E880\", \"#FF97FF\", \"#FECB52\"], \"font\": {\"color\": \"#2a3f5f\"}, \"geo\": {\"bgcolor\": \"white\", \"lakecolor\": \"white\", \"landcolor\": \"#E5ECF6\", \"showlakes\": true, \"showland\": true, \"subunitcolor\": \"white\"}, \"hoverlabel\": {\"align\": \"left\"}, \"hovermode\": \"closest\", \"mapbox\": {\"style\": \"light\"}, \"paper_bgcolor\": \"white\", \"plot_bgcolor\": \"#E5ECF6\", \"polar\": {\"angularaxis\": {\"gridcolor\": \"white\", \"linecolor\": \"white\", \"ticks\": \"\"}, \"bgcolor\": \"#E5ECF6\", \"radialaxis\": {\"gridcolor\": \"white\", \"linecolor\": \"white\", \"ticks\": \"\"}}, \"scene\": {\"xaxis\": {\"backgroundcolor\": \"#E5ECF6\", \"gridcolor\": \"white\", \"gridwidth\": 2, \"linecolor\": \"white\", \"showbackground\": true, \"ticks\": \"\", \"zerolinecolor\": \"white\"}, \"yaxis\": {\"backgroundcolor\": \"#E5ECF6\", \"gridcolor\": \"white\", \"gridwidth\": 2, \"linecolor\": \"white\", \"showbackground\": true, \"ticks\": \"\", \"zerolinecolor\": \"white\"}, \"zaxis\": {\"backgroundcolor\": \"#E5ECF6\", \"gridcolor\": \"white\", \"gridwidth\": 2, \"linecolor\": \"white\", \"showbackground\": true, \"ticks\": \"\", \"zerolinecolor\": \"white\"}}, \"shapedefaults\": {\"line\": {\"color\": \"#2a3f5f\"}}, \"ternary\": {\"aaxis\": {\"gridcolor\": \"white\", \"linecolor\": \"white\", \"ticks\": \"\"}, \"baxis\": {\"gridcolor\": \"white\", \"linecolor\": \"white\", \"ticks\": \"\"}, \"bgcolor\": \"#E5ECF6\", \"caxis\": {\"gridcolor\": \"white\", \"linecolor\": \"white\", \"ticks\": \"\"}}, \"title\": {\"x\": 0.05}, \"xaxis\": {\"automargin\": true, \"gridcolor\": \"white\", \"linecolor\": \"white\", \"ticks\": \"\", \"title\": {\"standoff\": 15}, \"zerolinecolor\": \"white\", \"zerolinewidth\": 2}, \"yaxis\": {\"automargin\": true, \"gridcolor\": \"white\", \"linecolor\": \"white\", \"ticks\": \"\", \"title\": {\"standoff\": 15}, \"zerolinecolor\": \"white\", \"zerolinewidth\": 2}}}, \"width\": 600, \"xaxis\": {\"anchor\": \"y\", \"categoryarray\": [\"Placed\", \"Not Placed\"], \"categoryorder\": \"array\", \"domain\": [0.0, 1.0], \"title\": {\"text\": \"status\"}}, \"yaxis\": {\"anchor\": \"x\", \"domain\": [0.0, 1.0], \"title\": {\"text\": \"count\"}}},\n",
              "                        {\"responsive\": true}\n",
              "                    ).then(function(){\n",
              "                            \n",
              "var gd = document.getElementById('13444918-c215-4b5d-84f6-db3318bf342b');\n",
              "var x = new MutationObserver(function (mutations, observer) {{\n",
              "        var display = window.getComputedStyle(gd).display;\n",
              "        if (!display || display === 'none') {{\n",
              "            console.log([gd, 'removed!']);\n",
              "            Plotly.purge(gd);\n",
              "            observer.disconnect();\n",
              "        }}\n",
              "}});\n",
              "\n",
              "// Listen for the removal of the full notebook cells\n",
              "var notebookContainer = gd.closest('#notebook-container');\n",
              "if (notebookContainer) {{\n",
              "    x.observe(notebookContainer, {childList: true});\n",
              "}}\n",
              "\n",
              "// Listen for the clearing of the current output cell\n",
              "var outputEl = gd.closest('.output');\n",
              "if (outputEl) {{\n",
              "    x.observe(outputEl, {childList: true});\n",
              "}}\n",
              "\n",
              "                        })\n",
              "                };\n",
              "                \n",
              "            </script>\n",
              "        </div>\n",
              "</body>\n",
              "</html>"
            ]
          },
          "metadata": {
            "tags": []
          }
        }
      ]
    },
    {
      "cell_type": "code",
      "metadata": {
        "colab": {
          "base_uri": "https://localhost:8080/",
          "height": 277
        },
        "id": "9WvyKqLz0PF8",
        "outputId": "dfb9bfe7-409a-4a24-ee80-befbf5a1f037"
      },
      "source": [
        "# continuous variable distribution\n",
        "\n",
        "fig, axes = plt.subplots(1, 5, figsize=(30, 5), sharey=True)\n",
        "fig.suptitle('Continious Variables distribution')\n",
        "# ['ssc_p', 'hsc_p', 'degree_p', 'etest_p', 'mba_p']\n",
        "sns.kdeplot(ax=axes[0],\n",
        "   data=df1, x=\"ssc_p\", hue=\"status\",\n",
        "   fill=True, common_norm=False, palette=\"viridis\",\n",
        "   alpha=.5, linewidth=0,\n",
        ")\n",
        "sns.kdeplot(ax=axes[1],\n",
        "   data=df1, x=\"hsc_p\", hue=\"status\",\n",
        "   fill=True, common_norm=False, palette=\"viridis\",\n",
        "   alpha=.5, linewidth=0,\n",
        ")\n",
        "sns.kdeplot(ax=axes[2],\n",
        "   data=df1, x=\"degree_p\", hue=\"status\",\n",
        "   fill=True, common_norm=False, palette=\"viridis\",\n",
        "   alpha=.5, linewidth=0,\n",
        ")\n",
        "sns.kdeplot(ax=axes[3],\n",
        "   data=df1, x=\"etest_p\", hue=\"status\",\n",
        "   fill=True, common_norm=False, palette=\"viridis\",\n",
        "   alpha=.5, linewidth=0,\n",
        ")\n",
        "sns.kdeplot(ax=axes[4],\n",
        "   data=df1, x=\"mba_p\", hue=\"status\",\n",
        "   fill=True, common_norm=False, palette=\"viridis\",\n",
        "   alpha=.5, linewidth=0,\n",
        ")"
      ],
      "execution_count": 135,
      "outputs": [
        {
          "output_type": "execute_result",
          "data": {
            "text/plain": [
              "<matplotlib.axes._subplots.AxesSubplot at 0x7efeda5b5090>"
            ]
          },
          "metadata": {
            "tags": []
          },
          "execution_count": 135
        },
        {
          "output_type": "display_data",
          "data": {
            "image/png": "[encoded data removed]",
            "text/plain": [
              "<Figure size 2160x360 with 5 Axes>"
            ]
          },
          "metadata": {
            "tags": [],
            "needs_background": "light"
          }
        }
      ]
    },
    {
      "cell_type": "code",
      "metadata": {
        "colab": {
          "base_uri": "https://localhost:8080/",
          "height": 277
        },
        "id": "WaPi2p9D0PIV",
        "outputId": "a3a0f247-a404-4bed-9776-5d720c9b3b44"
      },
      "source": [
        "#bar graph\n",
        "\n",
        "fig, axes = plt.subplots(1, 7, figsize=(30, 5), sharey=True)\n",
        "fig.suptitle('Continious Variables distribution')\n",
        "# ['ssc_p', 'hsc_p', 'degree_p', 'etest_p', 'mba_p']\n",
        "sns.countplot(ax=axes[0],x=\"gender\",hue=\"status\", data=df1)\n",
        "\n",
        "sns.countplot(ax=axes[1],x=\"ssc_b\",hue=\"status\", data=df1)\n",
        "\n",
        "sns.countplot(ax=axes[2],x=\"hsc_b\",hue=\"status\", data=df1)\n",
        "\n",
        "sns.countplot(ax=axes[3],x=\"hsc_s\",hue=\"status\", data=df1)\n",
        "\n",
        "sns.countplot(ax=axes[4],x=\"degree_t\",hue=\"status\", data=df1)\n",
        "\n",
        "sns.countplot(ax=axes[5],x=\"workex\",hue=\"status\", data=df1)\n",
        "\n",
        "sns.countplot(ax=axes[6],x=\"specialisation\",hue=\"status\", data=df1)"
      ],
      "execution_count": 136,
      "outputs": [
        {
          "output_type": "execute_result",
          "data": {
            "text/plain": [
              "<matplotlib.axes._subplots.AxesSubplot at 0x7efeda2f7d50>"
            ]
          },
          "metadata": {
            "tags": []
          },
          "execution_count": 136
        },
        {
          "output_type": "display_data",
          "data": {
            "image/png": "[encoded data removed]",
            "text/plain": [
              "<Figure size 2160x360 with 7 Axes>"
            ]
          },
          "metadata": {
            "tags": [],
            "needs_background": "light"
          }
        }
      ]
    },
    {
      "cell_type": "code",
      "metadata": {
        "colab": {
          "base_uri": "https://localhost:8080/",
          "height": 296
        },
        "id": "LOex_hvfNPL0",
        "outputId": "af5208a4-ce8e-445f-981a-c02c55b9bed8"
      },
      "source": [
        "#see the relationship of predictor with the outcome variable\n",
        "\n",
        "sns.countplot(x=\"specialisation\",hue=\"workex\",data=df1)"
      ],
      "execution_count": 137,
      "outputs": [
        {
          "output_type": "execute_result",
          "data": {
            "text/plain": [
              "<matplotlib.axes._subplots.AxesSubplot at 0x7efeda156490>"
            ]
          },
          "metadata": {
            "tags": []
          },
          "execution_count": 137
        },
        {
          "output_type": "display_data",
          "data": {
            "image/png": "[encoded data removed]",
            "text/plain": [
              "<Figure size 432x288 with 1 Axes>"
            ]
          },
          "metadata": {
            "tags": [],
            "needs_background": "light"
          }
        }
      ]
    },
    {
      "cell_type": "code",
      "metadata": {
        "colab": {
          "base_uri": "https://localhost:8080/",
          "height": 1000
        },
        "id": "wpFh3d3B15L6",
        "outputId": "245b9bd8-beaf-40ab-9409-3ee782a5e270"
      },
      "source": [
        "tex = [0 if cl=='Placed' else 1 for cl in df1['status']]\n",
        "tex = pd.Series(tex)\n",
        "fig = go.Figure(data=go.Splom(\n",
        "                  dimensions=[dict(label='sr sec', values=df1['ssc_p']),\n",
        "                              dict(label='high school', values=df1['hsc_p']),\n",
        "                              dict(label='deg', values=df1['degree_p']),\n",
        "                              dict(label='ged2', values=df1['etest_p']),\n",
        "                              dict(label='mba', values=df1['mba_p'])],\n",
        "                  marker=dict(color=tex,\n",
        "                              size=5,\n",
        "                              colorscale='Bluered',\n",
        "                              line=dict(width=0.5,\n",
        "                                        color='rgb(230,230,230)')),\n",
        "                  text=list(df1.status),\n",
        "                  diagonal=dict(visible=False)))\n",
        "\n",
        "title = \"Scatterplot Matrix (SPLOM) for Placement Dataset\"\n",
        "fig.update_layout(title=title,\n",
        "                  dragmode='select',\n",
        "                  width=1200,\n",
        "                  height=1000,\n",
        "                  hovermode='closest')\n",
        "\n",
        "fig.show()"
      ],
      "execution_count": 138,
      "outputs": [
        {
          "output_type": "display_data",
          "data": {
            "text/html": [
              "<html>\n",
              "<head><meta charset=\"utf-8\" /></head>\n",
              "<body>\n",
              "    <div>\n",
              "            <script src=\"https://cdnjs.cloudflare.com/ajax/libs/mathjax/2.7.5/MathJax.js?config=TeX-AMS-MML_SVG\"></script><script type=\"text/javascript\">if (window.MathJax) {MathJax.Hub.Config({SVG: {font: \"STIX-Web\"}});}</script>\n",
              "                <script type=\"text/javascript\">window.PlotlyConfig = {MathJaxConfig: 'local'};</script>\n",
              "        <script src=\"https://cdn.plot.ly/plotly-latest.min.js\"></script>    \n",
              "            <div id=\"53d0453b-28d1-4889-ba76-6c0216d0c9f4\" class=\"plotly-graph-div\" style=\"height:1000px; width:1200px;\"></div>\n",
              "            <script type=\"text/javascript\">\n",
              "                \n",
              "                    window.PLOTLYENV=window.PLOTLYENV || {};\n",
              "                    \n",
              "                if (document.getElementById(\"53d0453b-28d1-4889-ba76-6c0216d0c9f4\")) {\n",
              "                    Plotly.newPlot(\n",
              "                        '53d0453b-28d1-4889-ba76-6c0216d0c9f4',\n",
              "                        [{\"diagonal\": {\"visible\": false}, \"dimensions\": [{\"label\": \"sr sec\", \"values\": [67.0, 79.33, 65.0, 56.0, 85.8, 55.0, 46.0, 82.0, 73.0, 58.0, 58.0, 69.6, 47.0, 77.0, 62.0, 65.0, 63.0, 55.0, 63.0, 60.0, 62.0, 79.0, 69.8, 77.4, 76.5, 52.58, 71.0, 63.0, 76.76, 62.0, 64.0, 67.0, 61.0, 87.0, 62.0, 69.0, 51.0, 79.0, 73.0, 81.0, 78.0, 74.0, 49.0, 87.0, 77.0, 76.0, 70.89, 63.0, 63.0, 50.0, 75.2, 54.4, 40.89, 80.0, 74.0, 60.4, 63.0, 68.0, 74.0, 52.6, 74.0, 84.2, 86.5, 61.0, 80.0, 54.0, 83.0, 80.92, 69.7, 73.0, 82.0, 75.0, 84.86, 64.6, 56.6, 59.0, 66.5, 64.0, 84.0, 69.0, 69.0, 81.7, 63.0, 84.0, 70.0, 83.84, 62.0, 59.6, 66.0, 84.0, 85.0, 52.0, 60.23, 52.0, 58.0, 73.0, 76.0, 70.5, 69.0, 54.0, 45.0, 63.0, 77.0, 73.0, 69.0, 59.0, 61.08, 82.0, 61.0, 52.0, 69.5, 51.0, 58.0, 73.96, 65.0, 73.0, 68.2, 77.0, 76.0, 60.8, 58.0, 64.0, 66.5, 74.0, 67.0, 84.0, 79.0, 72.0, 80.4, 76.7, 62.0, 74.9, 67.0, 73.0, 77.44, 72.0, 47.0, 67.0, 82.0, 77.0, 65.0, 66.0, 85.0, 77.67, 52.0, 89.4, 62.0, 70.0, 77.0, 44.0, 71.0, 65.0, 75.4, 49.0, 53.0, 51.57, 84.2, 66.5, 67.0, 52.0, 87.0, 55.6, 74.2, 63.0, 67.16, 63.3, 62.0, 67.9, 48.0, 59.96, 63.4, 80.0, 73.0, 52.0, 73.24, 63.0, 59.0, 73.0, 68.0, 77.8, 65.0, 62.0, 52.0, 65.0, 56.28, 88.0, 52.0, 78.5, 61.8, 54.0, 64.0, 67.0, 65.2, 60.0, 52.0, 66.0, 72.0, 83.96, 67.0, 69.0, 69.0, 54.2, 70.0, 55.68, 74.0, 61.0, 41.0, 83.33, 43.0, 62.0, 80.6, 58.0, 67.0, 74.0, 62.0]}, {\"label\": \"high school\", \"values\": [91.0, 78.33, 68.0, 52.0, 73.6, 49.8, 49.2, 64.0, 79.0, 70.0, 61.0, 68.4, 55.0, 87.0, 47.0, 75.0, 66.2, 67.0, 66.0, 67.0, 65.0, 76.0, 60.8, 60.0, 97.7, 54.6, 79.0, 67.0, 76.5, 67.0, 73.5, 53.0, 81.0, 65.0, 51.0, 78.0, 44.0, 76.0, 58.0, 68.0, 77.0, 63.16, 39.0, 87.0, 73.0, 64.0, 71.98, 60.0, 62.0, 37.0, 73.2, 61.12, 45.83, 70.0, 60.0, 66.6, 71.4, 76.0, 62.0, 65.58, 70.0, 73.4, 64.2, 70.0, 73.0, 47.0, 74.0, 78.5, 47.0, 73.0, 61.0, 70.29, 67.0, 83.83, 64.8, 62.0, 70.4, 80.0, 90.9, 62.0, 62.0, 63.0, 67.0, 79.0, 63.0, 89.83, 63.0, 51.0, 62.0, 75.0, 90.0, 57.0, 69.0, 62.0, 62.0, 78.0, 70.0, 62.5, 73.0, 82.0, 57.0, 72.0, 61.0, 78.0, 63.0, 64.0, 50.0, 90.0, 82.0, 63.0, 70.0, 54.0, 61.0, 79.0, 68.0, 63.0, 72.8, 75.0, 80.0, 68.4, 40.0, 67.0, 66.8, 59.0, 71.0, 73.0, 61.0, 60.0, 73.4, 89.7, 65.0, 57.0, 68.0, 64.0, 92.0, 56.0, 59.0, 63.0, 64.0, 70.0, 64.8, 64.0, 60.0, 64.89, 50.0, 65.66, 63.0, 74.0, 86.0, 58.0, 58.66, 65.0, 60.5, 59.0, 63.0, 74.66, 69.4, 62.5, 63.0, 49.0, 74.0, 51.0, 87.6, 67.0, 72.5, 78.33, 62.0, 62.0, 51.0, 42.16, 67.2, 80.0, 58.0, 52.0, 50.83, 62.0, 60.0, 97.0, 56.0, 64.0, 71.5, 60.33, 65.0, 77.0, 62.83, 72.0, 64.0, 65.5, 47.0, 77.6, 70.2, 61.0, 61.4, 63.0, 55.0, 76.0, 63.0, 53.0, 70.0, 65.0, 60.0, 63.0, 63.0, 61.33, 73.0, 62.0, 42.0, 78.0, 60.0, 72.0, 82.0, 60.0, 67.0, 66.0, 58.0]}, {\"label\": \"deg\", \"values\": [58.0, 77.48, 64.0, 52.0, 73.3, 67.25, 79.0, 66.0, 72.0, 61.0, 60.0, 78.3, 65.0, 59.0, 50.0, 69.0, 65.6, 64.0, 64.0, 70.0, 66.0, 85.0, 72.23, 64.74, 78.86, 50.2, 66.0, 66.0, 67.5, 58.0, 73.0, 65.0, 66.4, 81.0, 52.0, 72.0, 57.0, 65.6, 66.0, 64.0, 80.0, 65.0, 65.0, 68.0, 81.0, 72.0, 65.6, 57.0, 68.0, 52.0, 68.4, 56.2, 53.0, 72.0, 69.0, 65.0, 61.4, 74.0, 68.0, 72.11, 72.0, 66.89, 67.4, 64.0, 75.0, 57.0, 66.0, 67.0, 72.7, 66.0, 62.0, 71.0, 78.0, 71.72, 70.2, 77.5, 71.93, 65.0, 64.5, 66.0, 69.0, 67.0, 74.0, 68.0, 70.0, 77.2, 64.0, 60.0, 73.0, 69.0, 82.0, 50.8, 66.0, 54.0, 64.0, 65.0, 76.0, 61.0, 65.0, 63.0, 58.0, 68.0, 68.0, 73.0, 65.0, 58.0, 54.0, 83.0, 69.0, 65.0, 72.0, 61.0, 61.0, 67.0, 69.0, 66.0, 66.6, 73.0, 78.0, 64.6, 59.0, 69.6, 69.3, 73.0, 64.33, 73.0, 75.5, 69.0, 77.72, 66.0, 60.0, 62.0, 64.0, 77.0, 72.0, 69.0, 64.0, 72.0, 73.0, 59.0, 69.5, 60.0, 73.43, 70.67, 61.0, 71.25, 66.0, 65.0, 56.0, 55.0, 58.0, 75.0, 84.0, 65.0, 60.0, 59.9, 65.0, 60.9, 64.0, 58.0, 65.0, 57.5, 77.25, 64.0, 63.35, 74.0, 60.0, 67.0, 58.0, 61.26, 60.0, 72.0, 56.0, 55.0, 64.27, 65.0, 56.0, 79.0, 68.0, 64.2, 62.8, 64.21, 57.0, 69.0, 59.79, 78.0, 61.0, 67.0, 54.38, 69.2, 61.0, 72.0, 64.8, 56.0, 56.3, 72.0, 77.5, 91.0, 65.0, 57.0, 65.0, 58.0, 66.0, 56.87, 73.0, 65.0, 60.0, 61.0, 65.0, 65.0, 77.6, 72.0, 73.0, 58.0, 53.0]}, {\"label\": \"ged2\", \"values\": [55.0, 86.5, 75.0, 66.0, 96.8, 55.0, 74.28, 67.0, 91.34, 54.0, 62.0, 60.0, 62.0, 68.0, 76.0, 72.0, 60.0, 60.0, 68.0, 50.48, 50.0, 95.0, 55.53, 92.0, 97.4, 76.0, 94.0, 68.0, 73.35, 77.0, 52.0, 64.0, 50.89, 88.0, 68.44, 71.0, 64.0, 58.0, 53.7, 93.0, 60.0, 65.0, 63.0, 95.0, 89.0, 58.0, 68.0, 78.0, 64.0, 65.0, 65.0, 67.0, 71.2, 87.0, 78.0, 71.0, 68.0, 80.0, 74.0, 57.6, 60.0, 61.6, 59.0, 68.5, 61.0, 89.69, 68.92, 68.71, 79.0, 70.0, 89.0, 95.0, 95.5, 86.0, 84.27, 74.0, 61.0, 69.0, 86.04, 75.0, 67.0, 86.0, 82.0, 84.0, 55.0, 78.74, 67.0, 75.0, 58.0, 62.0, 92.0, 67.0, 72.0, 72.0, 53.88, 95.46, 66.0, 93.91, 70.0, 50.0, 56.39, 78.0, 57.5, 85.0, 55.0, 85.0, 71.0, 80.0, 84.0, 86.0, 57.2, 60.0, 58.0, 72.15, 53.7, 89.0, 96.0, 80.0, 97.0, 82.66, 73.0, 55.67, 80.4, 60.0, 64.0, 75.0, 70.0, 55.5, 81.2, 90.0, 84.0, 80.0, 74.4, 65.0, 94.0, 55.6, 78.0, 56.0, 96.0, 58.0, 56.0, 60.0, 60.0, 89.0, 60.0, 72.0, 85.0, 83.0, 57.0, 64.25, 56.0, 83.0, 98.0, 86.0, 70.0, 56.15, 80.0, 93.4, 60.0, 62.0, 75.0, 57.63, 75.2, 75.0, 53.04, 80.0, 63.0, 58.1, 60.0, 54.48, 58.06, 63.79, 84.0, 67.0, 64.0, 87.5, 55.0, 89.0, 73.0, 75.5, 57.0, 63.0, 75.0, 60.0, 60.0, 82.0, 55.0, 95.0, 57.0, 95.65, 50.0, 72.0, 93.4, 80.0, 59.0, 84.0, 78.0, 59.32, 88.0, 73.0, 87.55, 79.0, 61.28, 66.0, 80.0, 62.0, 97.0, 88.56, 92.66, 67.0, 91.0, 74.0, 59.0, 70.0, 89.0]}, {\"label\": \"mba\", \"values\": [58.8, 66.28, 57.8, 59.43, 55.5, 51.58, 53.29, 62.14, 61.29, 52.21, 60.85, 63.7, 65.04, 68.63, 54.96, 64.66, 62.54, 67.28, 64.08, 77.89, 56.7, 69.06, 68.81, 63.62, 74.01, 65.33, 57.55, 57.69, 64.15, 51.29, 56.7, 58.32, 62.21, 72.78, 62.77, 62.74, 51.45, 55.47, 56.86, 62.56, 66.72, 69.76, 51.21, 62.9, 69.7, 66.53, 71.63, 54.55, 62.46, 56.11, 62.98, 62.65, 65.49, 71.04, 65.56, 52.71, 66.88, 63.59, 57.99, 56.66, 57.24, 62.48, 59.69, 59.5, 58.78, 57.1, 58.46, 60.99, 59.24, 68.07, 65.45, 66.94, 68.53, 59.75, 67.2, 67.0, 64.27, 57.65, 59.42, 67.99, 62.35, 70.2, 60.44, 66.69, 62.0, 76.18, 57.03, 59.08, 64.36, 62.36, 68.03, 62.79, 59.47, 55.41, 54.97, 62.16, 64.44, 69.03, 57.31, 59.47, 64.95, 60.44, 61.31, 65.83, 58.23, 55.3, 65.69, 73.52, 58.31, 56.09, 54.8, 60.64, 53.94, 63.08, 55.01, 60.5, 70.85, 67.05, 70.48, 64.34, 58.81, 71.49, 71.0, 56.7, 61.26, 73.33, 68.2, 58.4, 76.26, 68.55, 64.15, 60.78, 53.49, 60.98, 67.13, 65.63, 61.58, 60.41, 71.77, 54.43, 56.94, 61.9, 61.29, 60.39, 58.52, 63.23, 55.14, 62.28, 64.08, 58.54, 61.3, 58.87, 65.25, 62.48, 53.2, 65.99, 52.72, 55.03, 61.87, 60.59, 72.29, 62.72, 66.06, 66.46, 65.52, 74.56, 52.38, 75.71, 58.79, 65.48, 69.28, 66.04, 52.64, 59.32, 66.23, 60.69, 57.9, 70.81, 68.07, 72.14, 56.6, 60.02, 59.81, 61.82, 57.29, 71.43, 62.93, 64.86, 56.13, 66.94, 62.5, 61.01, 57.34, 56.63, 64.74, 58.95, 54.48, 69.71, 71.96, 55.8, 52.81, 58.44, 60.11, 58.3, 67.69, 56.81, 53.39, 71.55, 62.92, 56.49, 74.49, 53.62, 69.72, 60.23, 60.22]}], \"marker\": {\"color\": [0, 0, 0, 1, 0, 1, 1, 0, 0, 1, 0, 0, 1, 0, 1, 0, 0, 1, 1, 0, 0, 0, 0, 0, 0, 1, 0, 0, 0, 1, 0, 1, 0, 0, 1, 0, 1, 0, 0, 0, 0, 1, 1, 0, 0, 1, 1, 0, 0, 1, 0, 1, 1, 0, 0, 0, 0, 0, 0, 0, 0, 0, 0, 1, 0, 1, 0, 0, 1, 0, 0, 0, 0, 0, 0, 1, 0, 0, 0, 1, 0, 0, 1, 0, 0, 0, 0, 1, 0, 0, 0, 1, 0, 1, 0, 0, 0, 1, 0, 1, 1, 0, 0, 0, 0, 1, 1, 0, 0, 1, 0, 1, 0, 0, 0, 0, 0, 0, 0, 0, 1, 0, 0, 0, 0, 0, 0, 0, 0, 0, 1, 0, 0, 0, 0, 0, 1, 0, 0, 0, 0, 1, 0, 0, 1, 0, 0, 0, 0, 1, 0, 0, 0, 0, 0, 1, 0, 0, 1, 1, 0, 1, 0, 0, 0, 1, 0, 1, 1, 1, 1, 0, 0, 1, 0, 1, 0, 0, 0, 1, 0, 1, 1, 0, 1, 0, 1, 0, 1, 1, 1, 0, 0, 0, 1, 0, 0, 0, 1, 0, 0, 1, 0, 0, 0, 0, 1, 0, 1, 0, 0, 0, 0, 0, 1], \"colorscale\": [[0.0, \"rgb(0,0,255)\"], [1.0, \"rgb(255,0,0)\"]], \"line\": {\"color\": \"rgb(230,230,230)\", \"width\": 0.5}, \"size\": 5}, \"text\": [\"Placed\", \"Placed\", \"Placed\", \"Not Placed\", \"Placed\", \"Not Placed\", \"Not Placed\", \"Placed\", \"Placed\", \"Not Placed\", \"Placed\", \"Placed\", \"Not Placed\", \"Placed\", \"Not Placed\", \"Placed\", \"Placed\", \"Not Placed\", \"Not Placed\", \"Placed\", \"Placed\", \"Placed\", \"Placed\", \"Placed\", \"Placed\", \"Not Placed\", \"Placed\", \"Placed\", \"Placed\", \"Not Placed\", \"Placed\", \"Not Placed\", \"Placed\", \"Placed\", \"Not Placed\", \"Placed\", \"Not Placed\", \"Placed\", \"Placed\", \"Placed\", \"Placed\", \"Not Placed\", \"Not Placed\", \"Placed\", \"Placed\", \"Not Placed\", \"Not Placed\", \"Placed\", \"Placed\", \"Not Placed\", \"Placed\", \"Not Placed\", \"Not Placed\", \"Placed\", \"Placed\", \"Placed\", \"Placed\", \"Placed\", \"Placed\", \"Placed\", \"Placed\", \"Placed\", \"Placed\", \"Not Placed\", \"Placed\", \"Not Placed\", \"Placed\", \"Placed\", \"Not Placed\", \"Placed\", \"Placed\", \"Placed\", \"Placed\", \"Placed\", \"Placed\", \"Not Placed\", \"Placed\", \"Placed\", \"Placed\", \"Not Placed\", \"Placed\", \"Placed\", \"Not Placed\", \"Placed\", \"Placed\", \"Placed\", \"Placed\", \"Not Placed\", \"Placed\", \"Placed\", \"Placed\", \"Not Placed\", \"Placed\", \"Not Placed\", \"Placed\", \"Placed\", \"Placed\", \"Not Placed\", \"Placed\", \"Not Placed\", \"Not Placed\", \"Placed\", \"Placed\", \"Placed\", \"Placed\", \"Not Placed\", \"Not Placed\", \"Placed\", \"Placed\", \"Not Placed\", \"Placed\", \"Not Placed\", \"Placed\", \"Placed\", \"Placed\", \"Placed\", \"Placed\", \"Placed\", \"Placed\", \"Placed\", \"Not Placed\", \"Placed\", \"Placed\", \"Placed\", \"Placed\", \"Placed\", \"Placed\", \"Placed\", \"Placed\", \"Placed\", \"Not Placed\", \"Placed\", \"Placed\", \"Placed\", \"Placed\", \"Placed\", \"Not Placed\", \"Placed\", \"Placed\", \"Placed\", \"Placed\", \"Not Placed\", \"Placed\", \"Placed\", \"Not Placed\", \"Placed\", \"Placed\", \"Placed\", \"Placed\", \"Not Placed\", \"Placed\", \"Placed\", \"Placed\", \"Placed\", \"Placed\", \"Not Placed\", \"Placed\", \"Placed\", \"Not Placed\", \"Not Placed\", \"Placed\", \"Not Placed\", \"Placed\", \"Placed\", \"Placed\", \"Not Placed\", \"Placed\", \"Not Placed\", \"Not Placed\", \"Not Placed\", \"Not Placed\", \"Placed\", \"Placed\", \"Not Placed\", \"Placed\", \"Not Placed\", \"Placed\", \"Placed\", \"Placed\", \"Not Placed\", \"Placed\", \"Not Placed\", \"Not Placed\", \"Placed\", \"Not Placed\", \"Placed\", \"Not Placed\", \"Placed\", \"Not Placed\", \"Not Placed\", \"Not Placed\", \"Placed\", \"Placed\", \"Placed\", \"Not Placed\", \"Placed\", \"Placed\", \"Placed\", \"Not Placed\", \"Placed\", \"Placed\", \"Not Placed\", \"Placed\", \"Placed\", \"Placed\", \"Placed\", \"Not Placed\", \"Placed\", \"Not Placed\", \"Placed\", \"Placed\", \"Placed\", \"Placed\", \"Placed\", \"Not Placed\"], \"type\": \"splom\"}],\n",
              "                        {\"dragmode\": \"select\", \"height\": 1000, \"hovermode\": \"closest\", \"template\": {\"data\": {\"bar\": [{\"error_x\": {\"color\": \"#2a3f5f\"}, \"error_y\": {\"color\": \"#2a3f5f\"}, \"marker\": {\"line\": {\"color\": \"#E5ECF6\", \"width\": 0.5}}, \"type\": \"bar\"}], \"barpolar\": [{\"marker\": {\"line\": {\"color\": \"#E5ECF6\", \"width\": 0.5}}, \"type\": \"barpolar\"}], \"carpet\": [{\"aaxis\": {\"endlinecolor\": \"#2a3f5f\", \"gridcolor\": \"white\", \"linecolor\": \"white\", \"minorgridcolor\": \"white\", \"startlinecolor\": \"#2a3f5f\"}, \"baxis\": {\"endlinecolor\": \"#2a3f5f\", \"gridcolor\": \"white\", \"linecolor\": \"white\", \"minorgridcolor\": \"white\", \"startlinecolor\": \"#2a3f5f\"}, \"type\": \"carpet\"}], \"choropleth\": [{\"colorbar\": {\"outlinewidth\": 0, \"ticks\": \"\"}, \"type\": \"choropleth\"}], \"contour\": [{\"colorbar\": {\"outlinewidth\": 0, \"ticks\": \"\"}, \"colorscale\": [[0.0, \"#0d0887\"], [0.1111111111111111, \"#46039f\"], [0.2222222222222222, \"#7201a8\"], [0.3333333333333333, \"#9c179e\"], [0.4444444444444444, \"#bd3786\"], [0.5555555555555556, \"#d8576b\"], [0.6666666666666666, \"#ed7953\"], [0.7777777777777778, \"#fb9f3a\"], [0.8888888888888888, \"#fdca26\"], [1.0, \"#f0f921\"]], \"type\": \"contour\"}], \"contourcarpet\": [{\"colorbar\": {\"outlinewidth\": 0, \"ticks\": \"\"}, \"type\": \"contourcarpet\"}], \"heatmap\": [{\"colorbar\": {\"outlinewidth\": 0, \"ticks\": \"\"}, \"colorscale\": [[0.0, \"#0d0887\"], [0.1111111111111111, \"#46039f\"], [0.2222222222222222, \"#7201a8\"], [0.3333333333333333, \"#9c179e\"], [0.4444444444444444, \"#bd3786\"], [0.5555555555555556, \"#d8576b\"], [0.6666666666666666, \"#ed7953\"], [0.7777777777777778, \"#fb9f3a\"], [0.8888888888888888, \"#fdca26\"], [1.0, \"#f0f921\"]], \"type\": \"heatmap\"}], \"heatmapgl\": [{\"colorbar\": {\"outlinewidth\": 0, \"ticks\": \"\"}, \"colorscale\": [[0.0, \"#0d0887\"], [0.1111111111111111, \"#46039f\"], [0.2222222222222222, \"#7201a8\"], [0.3333333333333333, \"#9c179e\"], [0.4444444444444444, \"#bd3786\"], [0.5555555555555556, \"#d8576b\"], [0.6666666666666666, \"#ed7953\"], [0.7777777777777778, \"#fb9f3a\"], [0.8888888888888888, \"#fdca26\"], [1.0, \"#f0f921\"]], \"type\": \"heatmapgl\"}], \"histogram\": [{\"marker\": {\"colorbar\": {\"outlinewidth\": 0, \"ticks\": \"\"}}, \"type\": \"histogram\"}], \"histogram2d\": [{\"colorbar\": {\"outlinewidth\": 0, \"ticks\": \"\"}, \"colorscale\": [[0.0, \"#0d0887\"], [0.1111111111111111, \"#46039f\"], [0.2222222222222222, \"#7201a8\"], [0.3333333333333333, \"#9c179e\"], [0.4444444444444444, \"#bd3786\"], [0.5555555555555556, \"#d8576b\"], [0.6666666666666666, \"#ed7953\"], [0.7777777777777778, \"#fb9f3a\"], [0.8888888888888888, \"#fdca26\"], [1.0, \"#f0f921\"]], \"type\": \"histogram2d\"}], \"histogram2dcontour\": [{\"colorbar\": {\"outlinewidth\": 0, \"ticks\": \"\"}, \"colorscale\": [[0.0, \"#0d0887\"], [0.1111111111111111, \"#46039f\"], [0.2222222222222222, \"#7201a8\"], [0.3333333333333333, \"#9c179e\"], [0.4444444444444444, \"#bd3786\"], [0.5555555555555556, \"#d8576b\"], [0.6666666666666666, \"#ed7953\"], [0.7777777777777778, \"#fb9f3a\"], [0.8888888888888888, \"#fdca26\"], [1.0, \"#f0f921\"]], \"type\": \"histogram2dcontour\"}], \"mesh3d\": [{\"colorbar\": {\"outlinewidth\": 0, \"ticks\": \"\"}, \"type\": \"mesh3d\"}], \"parcoords\": [{\"line\": {\"colorbar\": {\"outlinewidth\": 0, \"ticks\": \"\"}}, \"type\": \"parcoords\"}], \"pie\": [{\"automargin\": true, \"type\": \"pie\"}], \"scatter\": [{\"marker\": {\"colorbar\": {\"outlinewidth\": 0, \"ticks\": \"\"}}, \"type\": \"scatter\"}], \"scatter3d\": [{\"line\": {\"colorbar\": {\"outlinewidth\": 0, \"ticks\": \"\"}}, \"marker\": {\"colorbar\": {\"outlinewidth\": 0, \"ticks\": \"\"}}, \"type\": \"scatter3d\"}], \"scattercarpet\": [{\"marker\": {\"colorbar\": {\"outlinewidth\": 0, \"ticks\": \"\"}}, \"type\": \"scattercarpet\"}], \"scattergeo\": [{\"marker\": {\"colorbar\": {\"outlinewidth\": 0, \"ticks\": \"\"}}, \"type\": \"scattergeo\"}], \"scattergl\": [{\"marker\": {\"colorbar\": {\"outlinewidth\": 0, \"ticks\": \"\"}}, \"type\": \"scattergl\"}], \"scattermapbox\": [{\"marker\": {\"colorbar\": {\"outlinewidth\": 0, \"ticks\": \"\"}}, \"type\": \"scattermapbox\"}], \"scatterpolar\": [{\"marker\": {\"colorbar\": {\"outlinewidth\": 0, \"ticks\": \"\"}}, \"type\": \"scatterpolar\"}], \"scatterpolargl\": [{\"marker\": {\"colorbar\": {\"outlinewidth\": 0, \"ticks\": \"\"}}, \"type\": \"scatterpolargl\"}], \"scatterternary\": [{\"marker\": {\"colorbar\": {\"outlinewidth\": 0, \"ticks\": \"\"}}, \"type\": \"scatterternary\"}], \"surface\": [{\"colorbar\": {\"outlinewidth\": 0, \"ticks\": \"\"}, \"colorscale\": [[0.0, \"#0d0887\"], [0.1111111111111111, \"#46039f\"], [0.2222222222222222, \"#7201a8\"], [0.3333333333333333, \"#9c179e\"], [0.4444444444444444, \"#bd3786\"], [0.5555555555555556, \"#d8576b\"], [0.6666666666666666, \"#ed7953\"], [0.7777777777777778, \"#fb9f3a\"], [0.8888888888888888, \"#fdca26\"], [1.0, \"#f0f921\"]], \"type\": \"surface\"}], \"table\": [{\"cells\": {\"fill\": {\"color\": \"#EBF0F8\"}, \"line\": {\"color\": \"white\"}}, \"header\": {\"fill\": {\"color\": \"#C8D4E3\"}, \"line\": {\"color\": \"white\"}}, \"type\": \"table\"}]}, \"layout\": {\"annotationdefaults\": {\"arrowcolor\": \"#2a3f5f\", \"arrowhead\": 0, \"arrowwidth\": 1}, \"coloraxis\": {\"colorbar\": {\"outlinewidth\": 0, \"ticks\": \"\"}}, \"colorscale\": {\"diverging\": [[0, \"#8e0152\"], [0.1, \"#c51b7d\"], [0.2, \"#de77ae\"], [0.3, \"#f1b6da\"], [0.4, \"#fde0ef\"], [0.5, \"#f7f7f7\"], [0.6, \"#e6f5d0\"], [0.7, \"#b8e186\"], [0.8, \"#7fbc41\"], [0.9, \"#4d9221\"], [1, \"#276419\"]], \"sequential\": [[0.0, \"#0d0887\"], [0.1111111111111111, \"#46039f\"], [0.2222222222222222, \"#7201a8\"], [0.3333333333333333, \"#9c179e\"], [0.4444444444444444, \"#bd3786\"], [0.5555555555555556, \"#d8576b\"], [0.6666666666666666, \"#ed7953\"], [0.7777777777777778, \"#fb9f3a\"], [0.8888888888888888, \"#fdca26\"], [1.0, \"#f0f921\"]], \"sequentialminus\": [[0.0, \"#0d0887\"], [0.1111111111111111, \"#46039f\"], [0.2222222222222222, \"#7201a8\"], [0.3333333333333333, \"#9c179e\"], [0.4444444444444444, \"#bd3786\"], [0.5555555555555556, \"#d8576b\"], [0.6666666666666666, \"#ed7953\"], [0.7777777777777778, \"#fb9f3a\"], [0.8888888888888888, \"#fdca26\"], [1.0, \"#f0f921\"]]}, \"colorway\": [\"#636efa\", \"#EF553B\", \"#00cc96\", \"#ab63fa\", \"#FFA15A\", \"#19d3f3\", \"#FF6692\", \"#B6E880\", \"#FF97FF\", \"#FECB52\"], \"font\": {\"color\": \"#2a3f5f\"}, \"geo\": {\"bgcolor\": \"white\", \"lakecolor\": \"white\", \"landcolor\": \"#E5ECF6\", \"showlakes\": true, \"showland\": true, \"subunitcolor\": \"white\"}, \"hoverlabel\": {\"align\": \"left\"}, \"hovermode\": \"closest\", \"mapbox\": {\"style\": \"light\"}, \"paper_bgcolor\": \"white\", \"plot_bgcolor\": \"#E5ECF6\", \"polar\": {\"angularaxis\": {\"gridcolor\": \"white\", \"linecolor\": \"white\", \"ticks\": \"\"}, \"bgcolor\": \"#E5ECF6\", \"radialaxis\": {\"gridcolor\": \"white\", \"linecolor\": \"white\", \"ticks\": \"\"}}, \"scene\": {\"xaxis\": {\"backgroundcolor\": \"#E5ECF6\", \"gridcolor\": \"white\", \"gridwidth\": 2, \"linecolor\": \"white\", \"showbackground\": true, \"ticks\": \"\", \"zerolinecolor\": \"white\"}, \"yaxis\": {\"backgroundcolor\": \"#E5ECF6\", \"gridcolor\": \"white\", \"gridwidth\": 2, \"linecolor\": \"white\", \"showbackground\": true, \"ticks\": \"\", \"zerolinecolor\": \"white\"}, \"zaxis\": {\"backgroundcolor\": \"#E5ECF6\", \"gridcolor\": \"white\", \"gridwidth\": 2, \"linecolor\": \"white\", \"showbackground\": true, \"ticks\": \"\", \"zerolinecolor\": \"white\"}}, \"shapedefaults\": {\"line\": {\"color\": \"#2a3f5f\"}}, \"ternary\": {\"aaxis\": {\"gridcolor\": \"white\", \"linecolor\": \"white\", \"ticks\": \"\"}, \"baxis\": {\"gridcolor\": \"white\", \"linecolor\": \"white\", \"ticks\": \"\"}, \"bgcolor\": \"#E5ECF6\", \"caxis\": {\"gridcolor\": \"white\", \"linecolor\": \"white\", \"ticks\": \"\"}}, \"title\": {\"x\": 0.05}, \"xaxis\": {\"automargin\": true, \"gridcolor\": \"white\", \"linecolor\": \"white\", \"ticks\": \"\", \"title\": {\"standoff\": 15}, \"zerolinecolor\": \"white\", \"zerolinewidth\": 2}, \"yaxis\": {\"automargin\": true, \"gridcolor\": \"white\", \"linecolor\": \"white\", \"ticks\": \"\", \"title\": {\"standoff\": 15}, \"zerolinecolor\": \"white\", \"zerolinewidth\": 2}}}, \"title\": {\"text\": \"Scatterplot Matrix (SPLOM) for Placement Dataset\"}, \"width\": 1200},\n",
              "                        {\"responsive\": true}\n",
              "                    ).then(function(){\n",
              "                            \n",
              "var gd = document.getElementById('53d0453b-28d1-4889-ba76-6c0216d0c9f4');\n",
              "var x = new MutationObserver(function (mutations, observer) {{\n",
              "        var display = window.getComputedStyle(gd).display;\n",
              "        if (!display || display === 'none') {{\n",
              "            console.log([gd, 'removed!']);\n",
              "            Plotly.purge(gd);\n",
              "            observer.disconnect();\n",
              "        }}\n",
              "}});\n",
              "\n",
              "// Listen for the removal of the full notebook cells\n",
              "var notebookContainer = gd.closest('#notebook-container');\n",
              "if (notebookContainer) {{\n",
              "    x.observe(notebookContainer, {childList: true});\n",
              "}}\n",
              "\n",
              "// Listen for the clearing of the current output cell\n",
              "var outputEl = gd.closest('.output');\n",
              "if (outputEl) {{\n",
              "    x.observe(outputEl, {childList: true});\n",
              "}}\n",
              "\n",
              "                        })\n",
              "                };\n",
              "                \n",
              "            </script>\n",
              "        </div>\n",
              "</body>\n",
              "</html>"
            ]
          },
          "metadata": {
            "tags": []
          }
        }
      ]
    },
    {
      "cell_type": "code",
      "metadata": {
        "id": "X9hy8A03znBG"
      },
      "source": [
        "# drop SL_no & salary which is not needed\n",
        "df=df1.drop(['sl_no'],axis=1)\n",
        "#replace the categories under status\n",
        "df=df.replace('Placed',1)   \n",
        "df=df.replace('Not Placed',0) "
      ],
      "execution_count": 139,
      "outputs": []
    },
    {
      "cell_type": "code",
      "metadata": {
        "id": "kUpdJJdp1Wo_"
      },
      "source": [
        "df=df.drop(['salary'],axis=1)"
      ],
      "execution_count": 140,
      "outputs": []
    },
    {
      "cell_type": "code",
      "metadata": {
        "colab": {
          "base_uri": "https://localhost:8080/",
          "height": 198
        },
        "id": "QvXaNOIFbLf5",
        "outputId": "79cb44b3-c7c0-4866-b77a-0909cdcd9751"
      },
      "source": [
        "df.head()"
      ],
      "execution_count": 141,
      "outputs": [
        {
          "output_type": "execute_result",
          "data": {
            "text/html": [
              "<div>\n",
              "<style scoped>\n",
              "    .dataframe tbody tr th:only-of-type {\n",
              "        vertical-align: middle;\n",
              "    }\n",
              "\n",
              "    .dataframe tbody tr th {\n",
              "        vertical-align: top;\n",
              "    }\n",
              "\n",
              "    .dataframe thead th {\n",
              "        text-align: right;\n",
              "    }\n",
              "</style>\n",
              "<table border=\"1\" class=\"dataframe\">\n",
              "  <thead>\n",
              "    <tr style=\"text-align: right;\">\n",
              "      <th></th>\n",
              "      <th>gender</th>\n",
              "      <th>ssc_p</th>\n",
              "      <th>ssc_b</th>\n",
              "      <th>hsc_p</th>\n",
              "      <th>hsc_b</th>\n",
              "      <th>hsc_s</th>\n",
              "      <th>degree_p</th>\n",
              "      <th>degree_t</th>\n",
              "      <th>workex</th>\n",
              "      <th>etest_p</th>\n",
              "      <th>specialisation</th>\n",
              "      <th>mba_p</th>\n",
              "      <th>status</th>\n",
              "    </tr>\n",
              "  </thead>\n",
              "  <tbody>\n",
              "    <tr>\n",
              "      <th>0</th>\n",
              "      <td>M</td>\n",
              "      <td>67.00</td>\n",
              "      <td>Others</td>\n",
              "      <td>91.00</td>\n",
              "      <td>Others</td>\n",
              "      <td>Commerce</td>\n",
              "      <td>58.00</td>\n",
              "      <td>Sci&amp;Tech</td>\n",
              "      <td>No</td>\n",
              "      <td>55.0</td>\n",
              "      <td>Mkt&amp;HR</td>\n",
              "      <td>58.80</td>\n",
              "      <td>1</td>\n",
              "    </tr>\n",
              "    <tr>\n",
              "      <th>1</th>\n",
              "      <td>M</td>\n",
              "      <td>79.33</td>\n",
              "      <td>Central</td>\n",
              "      <td>78.33</td>\n",
              "      <td>Others</td>\n",
              "      <td>Science</td>\n",
              "      <td>77.48</td>\n",
              "      <td>Sci&amp;Tech</td>\n",
              "      <td>Yes</td>\n",
              "      <td>86.5</td>\n",
              "      <td>Mkt&amp;Fin</td>\n",
              "      <td>66.28</td>\n",
              "      <td>1</td>\n",
              "    </tr>\n",
              "    <tr>\n",
              "      <th>2</th>\n",
              "      <td>M</td>\n",
              "      <td>65.00</td>\n",
              "      <td>Central</td>\n",
              "      <td>68.00</td>\n",
              "      <td>Central</td>\n",
              "      <td>Arts</td>\n",
              "      <td>64.00</td>\n",
              "      <td>Comm&amp;Mgmt</td>\n",
              "      <td>No</td>\n",
              "      <td>75.0</td>\n",
              "      <td>Mkt&amp;Fin</td>\n",
              "      <td>57.80</td>\n",
              "      <td>1</td>\n",
              "    </tr>\n",
              "    <tr>\n",
              "      <th>3</th>\n",
              "      <td>M</td>\n",
              "      <td>56.00</td>\n",
              "      <td>Central</td>\n",
              "      <td>52.00</td>\n",
              "      <td>Central</td>\n",
              "      <td>Science</td>\n",
              "      <td>52.00</td>\n",
              "      <td>Sci&amp;Tech</td>\n",
              "      <td>No</td>\n",
              "      <td>66.0</td>\n",
              "      <td>Mkt&amp;HR</td>\n",
              "      <td>59.43</td>\n",
              "      <td>0</td>\n",
              "    </tr>\n",
              "    <tr>\n",
              "      <th>4</th>\n",
              "      <td>M</td>\n",
              "      <td>85.80</td>\n",
              "      <td>Central</td>\n",
              "      <td>73.60</td>\n",
              "      <td>Central</td>\n",
              "      <td>Commerce</td>\n",
              "      <td>73.30</td>\n",
              "      <td>Comm&amp;Mgmt</td>\n",
              "      <td>No</td>\n",
              "      <td>96.8</td>\n",
              "      <td>Mkt&amp;Fin</td>\n",
              "      <td>55.50</td>\n",
              "      <td>1</td>\n",
              "    </tr>\n",
              "  </tbody>\n",
              "</table>\n",
              "</div>"
            ],
            "text/plain": [
              "  gender  ssc_p    ssc_b  hsc_p  ... etest_p specialisation  mba_p status\n",
              "0      M  67.00   Others  91.00  ...    55.0         Mkt&HR  58.80      1\n",
              "1      M  79.33  Central  78.33  ...    86.5        Mkt&Fin  66.28      1\n",
              "2      M  65.00  Central  68.00  ...    75.0        Mkt&Fin  57.80      1\n",
              "3      M  56.00  Central  52.00  ...    66.0         Mkt&HR  59.43      0\n",
              "4      M  85.80  Central  73.60  ...    96.8        Mkt&Fin  55.50      1\n",
              "\n",
              "[5 rows x 13 columns]"
            ]
          },
          "metadata": {
            "tags": []
          },
          "execution_count": 141
        }
      ]
    },
    {
      "cell_type": "code",
      "metadata": {
        "colab": {
          "base_uri": "https://localhost:8080/"
        },
        "id": "pT4gtcIEvRmv",
        "outputId": "37137a2c-d5d1-4905-cc4a-6b75beb8b359"
      },
      "source": [
        "#checking the unique values for categorical columns\n",
        "categorical_columns = df.columns[df.dtypes == object]\n",
        "for col in categorical_columns:\n",
        "    print(\"Unique values for \", col ,\": \" ,df[col].unique())"
      ],
      "execution_count": 142,
      "outputs": [
        {
          "output_type": "stream",
          "text": [
            "Unique values for  gender :  ['M' 'F']\n",
            "Unique values for  ssc_b :  ['Others' 'Central']\n",
            "Unique values for  hsc_b :  ['Others' 'Central']\n",
            "Unique values for  hsc_s :  ['Commerce' 'Science' 'Arts']\n",
            "Unique values for  degree_t :  ['Sci&Tech' 'Comm&Mgmt' 'Others']\n",
            "Unique values for  workex :  ['No' 'Yes']\n",
            "Unique values for  specialisation :  ['Mkt&HR' 'Mkt&Fin']\n"
          ],
          "name": "stdout"
        }
      ]
    },
    {
      "cell_type": "code",
      "metadata": {
        "colab": {
          "base_uri": "https://localhost:8080/"
        },
        "id": "nqSAf8DXwgNe",
        "outputId": "c1886813-ce91-42f4-b7b4-df6b96400ace"
      },
      "source": [
        "# to view get dummies columns\n",
        "print(\"Original features:\\n\", list(df.columns), \"\\n\")\n",
        "df_dummies = pd.get_dummies(df)\n",
        "print(\"Features after get_dummies:\\n\", list(df_dummies.columns))"
      ],
      "execution_count": 143,
      "outputs": [
        {
          "output_type": "stream",
          "text": [
            "Original features:\n",
            " ['gender', 'ssc_p', 'ssc_b', 'hsc_p', 'hsc_b', 'hsc_s', 'degree_p', 'degree_t', 'workex', 'etest_p', 'specialisation', 'mba_p', 'status'] \n",
            "\n",
            "Features after get_dummies:\n",
            " ['ssc_p', 'hsc_p', 'degree_p', 'etest_p', 'mba_p', 'status', 'gender_F', 'gender_M', 'ssc_b_Central', 'ssc_b_Others', 'hsc_b_Central', 'hsc_b_Others', 'hsc_s_Arts', 'hsc_s_Commerce', 'hsc_s_Science', 'degree_t_Comm&Mgmt', 'degree_t_Others', 'degree_t_Sci&Tech', 'workex_No', 'workex_Yes', 'specialisation_Mkt&Fin', 'specialisation_Mkt&HR']\n"
          ],
          "name": "stdout"
        }
      ]
    },
    {
      "cell_type": "code",
      "metadata": {
        "colab": {
          "base_uri": "https://localhost:8080/",
          "height": 427
        },
        "id": "DjL_mTTObdCf",
        "outputId": "121624ea-0a8f-4eaf-d05f-869097ad47ed"
      },
      "source": [
        "df_dummies"
      ],
      "execution_count": 144,
      "outputs": [
        {
          "output_type": "execute_result",
          "data": {
            "text/html": [
              "<div>\n",
              "<style scoped>\n",
              "    .dataframe tbody tr th:only-of-type {\n",
              "        vertical-align: middle;\n",
              "    }\n",
              "\n",
              "    .dataframe tbody tr th {\n",
              "        vertical-align: top;\n",
              "    }\n",
              "\n",
              "    .dataframe thead th {\n",
              "        text-align: right;\n",
              "    }\n",
              "</style>\n",
              "<table border=\"1\" class=\"dataframe\">\n",
              "  <thead>\n",
              "    <tr style=\"text-align: right;\">\n",
              "      <th></th>\n",
              "      <th>ssc_p</th>\n",
              "      <th>hsc_p</th>\n",
              "      <th>degree_p</th>\n",
              "      <th>etest_p</th>\n",
              "      <th>mba_p</th>\n",
              "      <th>status</th>\n",
              "      <th>gender_F</th>\n",
              "      <th>gender_M</th>\n",
              "      <th>ssc_b_Central</th>\n",
              "      <th>ssc_b_Others</th>\n",
              "      <th>hsc_b_Central</th>\n",
              "      <th>hsc_b_Others</th>\n",
              "      <th>hsc_s_Arts</th>\n",
              "      <th>hsc_s_Commerce</th>\n",
              "      <th>hsc_s_Science</th>\n",
              "      <th>degree_t_Comm&amp;Mgmt</th>\n",
              "      <th>degree_t_Others</th>\n",
              "      <th>degree_t_Sci&amp;Tech</th>\n",
              "      <th>workex_No</th>\n",
              "      <th>workex_Yes</th>\n",
              "      <th>specialisation_Mkt&amp;Fin</th>\n",
              "      <th>specialisation_Mkt&amp;HR</th>\n",
              "    </tr>\n",
              "  </thead>\n",
              "  <tbody>\n",
              "    <tr>\n",
              "      <th>0</th>\n",
              "      <td>67.00</td>\n",
              "      <td>91.00</td>\n",
              "      <td>58.00</td>\n",
              "      <td>55.0</td>\n",
              "      <td>58.80</td>\n",
              "      <td>1</td>\n",
              "      <td>0</td>\n",
              "      <td>1</td>\n",
              "      <td>0</td>\n",
              "      <td>1</td>\n",
              "      <td>0</td>\n",
              "      <td>1</td>\n",
              "      <td>0</td>\n",
              "      <td>1</td>\n",
              "      <td>0</td>\n",
              "      <td>0</td>\n",
              "      <td>0</td>\n",
              "      <td>1</td>\n",
              "      <td>1</td>\n",
              "      <td>0</td>\n",
              "      <td>0</td>\n",
              "      <td>1</td>\n",
              "    </tr>\n",
              "    <tr>\n",
              "      <th>1</th>\n",
              "      <td>79.33</td>\n",
              "      <td>78.33</td>\n",
              "      <td>77.48</td>\n",
              "      <td>86.5</td>\n",
              "      <td>66.28</td>\n",
              "      <td>1</td>\n",
              "      <td>0</td>\n",
              "      <td>1</td>\n",
              "      <td>1</td>\n",
              "      <td>0</td>\n",
              "      <td>0</td>\n",
              "      <td>1</td>\n",
              "      <td>0</td>\n",
              "      <td>0</td>\n",
              "      <td>1</td>\n",
              "      <td>0</td>\n",
              "      <td>0</td>\n",
              "      <td>1</td>\n",
              "      <td>0</td>\n",
              "      <td>1</td>\n",
              "      <td>1</td>\n",
              "      <td>0</td>\n",
              "    </tr>\n",
              "    <tr>\n",
              "      <th>2</th>\n",
              "      <td>65.00</td>\n",
              "      <td>68.00</td>\n",
              "      <td>64.00</td>\n",
              "      <td>75.0</td>\n",
              "      <td>57.80</td>\n",
              "      <td>1</td>\n",
              "      <td>0</td>\n",
              "      <td>1</td>\n",
              "      <td>1</td>\n",
              "      <td>0</td>\n",
              "      <td>1</td>\n",
              "      <td>0</td>\n",
              "      <td>1</td>\n",
              "      <td>0</td>\n",
              "      <td>0</td>\n",
              "      <td>1</td>\n",
              "      <td>0</td>\n",
              "      <td>0</td>\n",
              "      <td>1</td>\n",
              "      <td>0</td>\n",
              "      <td>1</td>\n",
              "      <td>0</td>\n",
              "    </tr>\n",
              "    <tr>\n",
              "      <th>3</th>\n",
              "      <td>56.00</td>\n",
              "      <td>52.00</td>\n",
              "      <td>52.00</td>\n",
              "      <td>66.0</td>\n",
              "      <td>59.43</td>\n",
              "      <td>0</td>\n",
              "      <td>0</td>\n",
              "      <td>1</td>\n",
              "      <td>1</td>\n",
              "      <td>0</td>\n",
              "      <td>1</td>\n",
              "      <td>0</td>\n",
              "      <td>0</td>\n",
              "      <td>0</td>\n",
              "      <td>1</td>\n",
              "      <td>0</td>\n",
              "      <td>0</td>\n",
              "      <td>1</td>\n",
              "      <td>1</td>\n",
              "      <td>0</td>\n",
              "      <td>0</td>\n",
              "      <td>1</td>\n",
              "    </tr>\n",
              "    <tr>\n",
              "      <th>4</th>\n",
              "      <td>85.80</td>\n",
              "      <td>73.60</td>\n",
              "      <td>73.30</td>\n",
              "      <td>96.8</td>\n",
              "      <td>55.50</td>\n",
              "      <td>1</td>\n",
              "      <td>0</td>\n",
              "      <td>1</td>\n",
              "      <td>1</td>\n",
              "      <td>0</td>\n",
              "      <td>1</td>\n",
              "      <td>0</td>\n",
              "      <td>0</td>\n",
              "      <td>1</td>\n",
              "      <td>0</td>\n",
              "      <td>1</td>\n",
              "      <td>0</td>\n",
              "      <td>0</td>\n",
              "      <td>1</td>\n",
              "      <td>0</td>\n",
              "      <td>1</td>\n",
              "      <td>0</td>\n",
              "    </tr>\n",
              "    <tr>\n",
              "      <th>...</th>\n",
              "      <td>...</td>\n",
              "      <td>...</td>\n",
              "      <td>...</td>\n",
              "      <td>...</td>\n",
              "      <td>...</td>\n",
              "      <td>...</td>\n",
              "      <td>...</td>\n",
              "      <td>...</td>\n",
              "      <td>...</td>\n",
              "      <td>...</td>\n",
              "      <td>...</td>\n",
              "      <td>...</td>\n",
              "      <td>...</td>\n",
              "      <td>...</td>\n",
              "      <td>...</td>\n",
              "      <td>...</td>\n",
              "      <td>...</td>\n",
              "      <td>...</td>\n",
              "      <td>...</td>\n",
              "      <td>...</td>\n",
              "      <td>...</td>\n",
              "      <td>...</td>\n",
              "    </tr>\n",
              "    <tr>\n",
              "      <th>210</th>\n",
              "      <td>80.60</td>\n",
              "      <td>82.00</td>\n",
              "      <td>77.60</td>\n",
              "      <td>91.0</td>\n",
              "      <td>74.49</td>\n",
              "      <td>1</td>\n",
              "      <td>0</td>\n",
              "      <td>1</td>\n",
              "      <td>0</td>\n",
              "      <td>1</td>\n",
              "      <td>0</td>\n",
              "      <td>1</td>\n",
              "      <td>0</td>\n",
              "      <td>1</td>\n",
              "      <td>0</td>\n",
              "      <td>1</td>\n",
              "      <td>0</td>\n",
              "      <td>0</td>\n",
              "      <td>1</td>\n",
              "      <td>0</td>\n",
              "      <td>1</td>\n",
              "      <td>0</td>\n",
              "    </tr>\n",
              "    <tr>\n",
              "      <th>211</th>\n",
              "      <td>58.00</td>\n",
              "      <td>60.00</td>\n",
              "      <td>72.00</td>\n",
              "      <td>74.0</td>\n",
              "      <td>53.62</td>\n",
              "      <td>1</td>\n",
              "      <td>0</td>\n",
              "      <td>1</td>\n",
              "      <td>0</td>\n",
              "      <td>1</td>\n",
              "      <td>0</td>\n",
              "      <td>1</td>\n",
              "      <td>0</td>\n",
              "      <td>0</td>\n",
              "      <td>1</td>\n",
              "      <td>0</td>\n",
              "      <td>0</td>\n",
              "      <td>1</td>\n",
              "      <td>1</td>\n",
              "      <td>0</td>\n",
              "      <td>1</td>\n",
              "      <td>0</td>\n",
              "    </tr>\n",
              "    <tr>\n",
              "      <th>212</th>\n",
              "      <td>67.00</td>\n",
              "      <td>67.00</td>\n",
              "      <td>73.00</td>\n",
              "      <td>59.0</td>\n",
              "      <td>69.72</td>\n",
              "      <td>1</td>\n",
              "      <td>0</td>\n",
              "      <td>1</td>\n",
              "      <td>0</td>\n",
              "      <td>1</td>\n",
              "      <td>0</td>\n",
              "      <td>1</td>\n",
              "      <td>0</td>\n",
              "      <td>1</td>\n",
              "      <td>0</td>\n",
              "      <td>1</td>\n",
              "      <td>0</td>\n",
              "      <td>0</td>\n",
              "      <td>0</td>\n",
              "      <td>1</td>\n",
              "      <td>1</td>\n",
              "      <td>0</td>\n",
              "    </tr>\n",
              "    <tr>\n",
              "      <th>213</th>\n",
              "      <td>74.00</td>\n",
              "      <td>66.00</td>\n",
              "      <td>58.00</td>\n",
              "      <td>70.0</td>\n",
              "      <td>60.23</td>\n",
              "      <td>1</td>\n",
              "      <td>1</td>\n",
              "      <td>0</td>\n",
              "      <td>0</td>\n",
              "      <td>1</td>\n",
              "      <td>0</td>\n",
              "      <td>1</td>\n",
              "      <td>0</td>\n",
              "      <td>1</td>\n",
              "      <td>0</td>\n",
              "      <td>1</td>\n",
              "      <td>0</td>\n",
              "      <td>0</td>\n",
              "      <td>1</td>\n",
              "      <td>0</td>\n",
              "      <td>0</td>\n",
              "      <td>1</td>\n",
              "    </tr>\n",
              "    <tr>\n",
              "      <th>214</th>\n",
              "      <td>62.00</td>\n",
              "      <td>58.00</td>\n",
              "      <td>53.00</td>\n",
              "      <td>89.0</td>\n",
              "      <td>60.22</td>\n",
              "      <td>0</td>\n",
              "      <td>0</td>\n",
              "      <td>1</td>\n",
              "      <td>1</td>\n",
              "      <td>0</td>\n",
              "      <td>0</td>\n",
              "      <td>1</td>\n",
              "      <td>0</td>\n",
              "      <td>0</td>\n",
              "      <td>1</td>\n",
              "      <td>1</td>\n",
              "      <td>0</td>\n",
              "      <td>0</td>\n",
              "      <td>1</td>\n",
              "      <td>0</td>\n",
              "      <td>0</td>\n",
              "      <td>1</td>\n",
              "    </tr>\n",
              "  </tbody>\n",
              "</table>\n",
              "<p>215 rows × 22 columns</p>\n",
              "</div>"
            ],
            "text/plain": [
              "     ssc_p  hsc_p  ...  specialisation_Mkt&Fin  specialisation_Mkt&HR\n",
              "0    67.00  91.00  ...                       0                      1\n",
              "1    79.33  78.33  ...                       1                      0\n",
              "2    65.00  68.00  ...                       1                      0\n",
              "3    56.00  52.00  ...                       0                      1\n",
              "4    85.80  73.60  ...                       1                      0\n",
              "..     ...    ...  ...                     ...                    ...\n",
              "210  80.60  82.00  ...                       1                      0\n",
              "211  58.00  60.00  ...                       1                      0\n",
              "212  67.00  67.00  ...                       1                      0\n",
              "213  74.00  66.00  ...                       0                      1\n",
              "214  62.00  58.00  ...                       0                      1\n",
              "\n",
              "[215 rows x 22 columns]"
            ]
          },
          "metadata": {
            "tags": []
          },
          "execution_count": 144
        }
      ]
    },
    {
      "cell_type": "code",
      "metadata": {
        "id": "tYzXnCULwkhf"
      },
      "source": [
        "dff=df_dummies"
      ],
      "execution_count": 145,
      "outputs": []
    },
    {
      "cell_type": "code",
      "metadata": {
        "id": "Q41tD_HYwl9l"
      },
      "source": [
        "# assign data to X and y\n",
        "X=dff.drop('status',axis=1)\n",
        "y=dff['status']"
      ],
      "execution_count": 146,
      "outputs": []
    },
    {
      "cell_type": "markdown",
      "metadata": {
        "id": "W24twm1n4n8h"
      },
      "source": [
        "# **Principal Component Analysis(PCA)**"
      ]
    },
    {
      "cell_type": "code",
      "metadata": {
        "id": "Qbxfafwx41oU"
      },
      "source": [
        "from sklearn.preprocessing import StandardScaler\n",
        "from sklearn.decomposition import PCA"
      ],
      "execution_count": 147,
      "outputs": []
    },
    {
      "cell_type": "code",
      "metadata": {
        "colab": {
          "base_uri": "https://localhost:8080/"
        },
        "id": "Q_Wj2sDL4q5m",
        "outputId": "6498f242-becb-406b-ed1b-7f20eb6dea9b"
      },
      "source": [
        "scaler = StandardScaler()\n",
        "scaled_data = scaler.fit_transform(X)\n",
        "scaled_data.shape"
      ],
      "execution_count": 148,
      "outputs": [
        {
          "output_type": "execute_result",
          "data": {
            "text/plain": [
              "(215, 21)"
            ]
          },
          "metadata": {
            "tags": []
          },
          "execution_count": 148
        }
      ]
    },
    {
      "cell_type": "code",
      "metadata": {
        "id": "WxS8S9Th4q7v"
      },
      "source": [
        "n_comp =[5,8,11,15]\n",
        "pca_exp = []\n",
        "variance_exp_cumsum = []\n",
        "for comp in n_comp:\n",
        "    pca = PCA(n_components=comp)\n",
        "    data_pca = pca.fit_transform(X)\n",
        "    data_pca = pd.DataFrame(data_pca)\n",
        "    pca_exp.append({\"i\": comp,'explained_variance_ratio': pca.explained_variance_ratio_.round(2)})\n",
        "    variance_exp_cumsum.append({'i': comp,'variance_exp_cumsum':pca.explained_variance_ratio_.cumsum().round(2)})\n",
        "# pca = PCA(n_components=2000)"
      ],
      "execution_count": 149,
      "outputs": []
    },
    {
      "cell_type": "code",
      "metadata": {
        "colab": {
          "base_uri": "https://localhost:8080/",
          "height": 419
        },
        "id": "CjD7X_s65Aww",
        "outputId": "d74c2d59-f204-4472-a63f-c14a72a1bc6c"
      },
      "source": [
        "variance_exp_cumsum = pca.explained_variance_ratio_.cumsum().round(2)\n",
        "fig, axes = plt.subplots(1,1,figsize=(8,4), dpi=100)\n",
        "plt.plot(variance_exp_cumsum, color='firebrick')\n",
        "plt.title('Screeplot of Variance Explained %', fontsize=22)\n",
        "plt.xlabel('# of PCs', fontsize=16)\n",
        "plt.show()"
      ],
      "execution_count": 150,
      "outputs": [
        {
          "output_type": "display_data",
          "data": {
            "image/png": "[encoded data removed]",
            "text/plain": [
              "<Figure size 800x400 with 1 Axes>"
            ]
          },
          "metadata": {
            "tags": [],
            "needs_background": "light"
          }
        }
      ]
    },
    {
      "cell_type": "code",
      "metadata": {
        "id": "95y0Ikeo5Ay0"
      },
      "source": [
        "pca = PCA(n_components=5)\n",
        "data_pca = pca.fit_transform(X)\n",
        "data_pca = pd.DataFrame(data_pca)"
      ],
      "execution_count": 151,
      "outputs": []
    },
    {
      "cell_type": "code",
      "metadata": {
        "id": "huZiFE6B4q9-"
      },
      "source": [
        "from scipy.spatial import ConvexHull\n",
        "\n",
        "def encircle(x,y, ax=None, **kw):\n",
        "    if not ax: ax=plt.gca()\n",
        "    p = np.c_[x,y]\n",
        "    hull = ConvexHull(p)\n",
        "    poly = plt.Polygon(p[hull.vertices,:], **kw)\n",
        "    ax.add_patch(poly)"
      ],
      "execution_count": 152,
      "outputs": []
    },
    {
      "cell_type": "code",
      "metadata": {
        "id": "njM10w1Z5bsl"
      },
      "source": [
        "rows_0 = y==0;\n",
        "rows_1 = y==1;"
      ],
      "execution_count": 153,
      "outputs": []
    },
    {
      "cell_type": "code",
      "metadata": {
        "colab": {
          "base_uri": "https://localhost:8080/",
          "height": 420
        },
        "id": "9jEBrvWO5bvH",
        "outputId": "beaa2789-7c1f-4d48-b4da-dd03d4ab630b"
      },
      "source": [
        "fig, ax = plt.subplots(1,1, figsize=(8,6))\n",
        "\n",
        "# Plot\n",
        "ax.scatter(data_pca.loc[rows_0.tolist(), 1], data_pca.loc[rows_0.tolist(), 2], c='blue', edgecolor='k', s=120, label='Placed')\n",
        "ax.scatter(data_pca.loc[rows_1.tolist(), 1], data_pca.loc[rows_1.tolist(), 2], c='red', edgecolor='k', s=120, label='Not Placed')\n",
        "\n",
        "# Encircle the boundaries\n",
        "encircle(data_pca.loc[rows_0.tolist(), 1], data_pca.loc[rows_0.tolist(), 2], ec=\"blue\", fc=\"none\", linewidth=2.5)\n",
        "encircle(data_pca.loc[rows_1.tolist(), 1], data_pca.loc[rows_1.tolist(), 2], ec=\"firebrick\", fc=\"none\", linewidth=2.5)\n",
        "\n",
        "# Shading\n",
        "encircle(data_pca.loc[rows_1.tolist(), 1], data_pca.loc[rows_1.tolist(), 2], ec=\"k\", fc=\"firebrick\", alpha=0.05)\n",
        "encircle(data_pca.loc[rows_0.tolist(), 1], data_pca.loc[rows_0.tolist(), 2], ec=\"k\", fc=\"blue\", alpha=0.05)\n",
        "\n",
        "# Labels\n",
        "ax.set_title(\"Placed or Not Placed: Scatterplot of First Two PCA directions\", fontsize=22)\n",
        "ax.set_xlabel(\"1st Principal Component\", fontsize=22)\n",
        "ax.set_ylabel(\"2nd Principal Component\", fontsize=22)\n",
        "ax.legend(loc='best', title='Recruitment Status', fontsize=16)\n",
        "plt.show();"
      ],
      "execution_count": 154,
      "outputs": [
        {
          "output_type": "display_data",
          "data": {
            "image/png": "[encoded data removed]",
            "text/plain": [
              "<Figure size 576x432 with 1 Axes>"
            ]
          },
          "metadata": {
            "tags": [],
            "needs_background": "light"
          }
        }
      ]
    },
    {
      "cell_type": "code",
      "metadata": {
        "id": "pfHYmT9g6HGR"
      },
      "source": [
        "data_pca['target'] = pd.Series(list(y), index=data_pca.index)"
      ],
      "execution_count": 155,
      "outputs": []
    },
    {
      "cell_type": "code",
      "metadata": {
        "colab": {
          "base_uri": "https://localhost:8080/",
          "height": 617
        },
        "id": "Yea7skOu6Znd",
        "outputId": "0434d424-0d73-471d-eb5c-f8b053e93a21"
      },
      "source": [
        "total_var = pca.explained_variance_ratio_.sum() * 100\n",
        "\n",
        "fig = px.scatter_3d(\n",
        "    data_pca, x=0, y=1, z=2, color=data_pca['target'],\n",
        "    title=f'Total Explained Variance: {total_var:.2f}%',\n",
        "    labels={'0': 'PC 1', '1': 'PC 2', '2': 'PC 3'}\n",
        ")\n",
        "fig.update_layout(scene=dict(\n",
        "                                     xaxis=dict(backgroundcolor=\"rgb(200, 200, 230)\",gridcolor=\"white\", \n",
        "                                                showbackground=True,zerolinecolor=\"white\",),\n",
        "                                     yaxis=dict(backgroundcolor=\"rgb(230, 200,230)\",gridcolor=\"white\", \n",
        "                                                showbackground=True,zerolinecolor=\"white\",),\n",
        "                                     zaxis=dict(backgroundcolor=\"rgb(230, 230,200)\",gridcolor=\"white\", \n",
        "                                                showbackground=True,zerolinecolor=\"white\",),\n",
        "                                     bgcolor='white'),\n",
        "                             plot_bgcolor='white',template = 'simple_white',height=600,width=800,\n",
        "                         )\n",
        "\n",
        "fig.show()"
      ],
      "execution_count": 156,
      "outputs": [
        {
          "output_type": "display_data",
          "data": {
            "text/html": [
              "<html>\n",
              "<head><meta charset=\"utf-8\" /></head>\n",
              "<body>\n",
              "    <div>\n",
              "            <script src=\"https://cdnjs.cloudflare.com/ajax/libs/mathjax/2.7.5/MathJax.js?config=TeX-AMS-MML_SVG\"></script><script type=\"text/javascript\">if (window.MathJax) {MathJax.Hub.Config({SVG: {font: \"STIX-Web\"}});}</script>\n",
              "                <script type=\"text/javascript\">window.PlotlyConfig = {MathJaxConfig: 'local'};</script>\n",
              "        <script src=\"https://cdn.plot.ly/plotly-latest.min.js\"></script>    \n",
              "            <div id=\"dfa6d532-c9cc-49f2-bd89-07c0f51c618a\" class=\"plotly-graph-div\" style=\"height:600px; width:800px;\"></div>\n",
              "            <script type=\"text/javascript\">\n",
              "                \n",
              "                    window.PLOTLYENV=window.PLOTLYENV || {};\n",
              "                    \n",
              "                if (document.getElementById(\"dfa6d532-c9cc-49f2-bd89-07c0f51c618a\")) {\n",
              "                    Plotly.newPlot(\n",
              "                        'dfa6d532-c9cc-49f2-bd89-07c0f51c618a',\n",
              "                        [{\"hoverlabel\": {\"namelength\": 0}, \"hovertemplate\": \"PC 1=%{x}<br>PC 2=%{y}<br>PC 3=%{z}<br>target=%{marker.color}\", \"legendgroup\": \"\", \"marker\": {\"color\": [1, 1, 1, 0, 1, 0, 0, 1, 1, 0, 1, 1, 0, 1, 0, 1, 1, 0, 0, 1, 1, 1, 1, 1, 1, 0, 1, 1, 1, 0, 1, 0, 1, 1, 0, 1, 0, 1, 1, 1, 1, 0, 0, 1, 1, 0, 0, 1, 1, 0, 1, 0, 0, 1, 1, 1, 1, 1, 1, 1, 1, 1, 1, 0, 1, 0, 1, 1, 0, 1, 1, 1, 1, 1, 1, 0, 1, 1, 1, 0, 1, 1, 0, 1, 1, 1, 1, 0, 1, 1, 1, 0, 1, 0, 1, 1, 1, 0, 1, 0, 0, 1, 1, 1, 1, 0, 0, 1, 1, 0, 1, 0, 1, 1, 1, 1, 1, 1, 1, 1, 0, 1, 1, 1, 1, 1, 1, 1, 1, 1, 0, 1, 1, 1, 1, 1, 0, 1, 1, 1, 1, 0, 1, 1, 0, 1, 1, 1, 1, 0, 1, 1, 1, 1, 1, 0, 1, 1, 0, 0, 1, 0, 1, 1, 1, 0, 1, 0, 0, 0, 0, 1, 1, 0, 1, 0, 1, 1, 1, 0, 1, 0, 0, 1, 0, 1, 0, 1, 0, 0, 0, 1, 1, 1, 0, 1, 1, 1, 0, 1, 1, 0, 1, 1, 1, 1, 0, 1, 0, 1, 1, 1, 1, 1, 0], \"coloraxis\": \"coloraxis\", \"symbol\": \"circle\"}, \"mode\": \"markers\", \"name\": \"\", \"scene\": \"scene\", \"showlegend\": false, \"type\": \"scatter3d\", \"x\": [-1.2723265327729139, 24.856463622543288, -0.061135513539554015, -21.29685417161594, 28.985526986703718, -26.6867673338826, -16.24933026552486, 3.189817008680547, 22.418386246753037, -17.332565818165712, -15.688868977460174, -1.5270043025275215, -22.19984960301701, 11.878794372523172, -15.967679196426669, 4.262242509231311, -9.82836043429615, -13.166444078649388, -5.2505022964859425, -12.790014630329098, -18.004241923636865, 31.320825654963457, -8.766838339826753, 13.986292785384018, 41.48502124043112, -15.086133807816958, 20.6559357967533, -5.330048828761475, 11.386731798457838, -3.747539711031313, -9.52976050692824, -12.86547597531366, -8.887492181328065, 25.229449215891606, -16.61477820555058, 7.688753341820016, -29.09284051793596, 0.8081477173292254, -13.537720997366153, 20.03733612782317, 8.1175434314147, -1.5112711622019683, -31.01334499457729, 35.00991026822206, 24.12421252423471, -2.9401892288961538, 3.6139642597986503, -5.805575743006485, -8.828222056290603, -33.08978423401051, 3.8544372770051663, -15.196991202640874, -27.629705018191483, 20.62220592576345, 5.210554157084174, -6.21566875559885, -2.7672855672682766, 12.399957828106611, 2.146254652870673, -16.18364737312279, -1.3972953721925632, 6.0229898741962735, 0.6813846234471742, -4.7995466283645385, 4.923046863906716, -9.376610902632565, 9.181505685313862, 10.9826759981663, -2.975318006622109, 5.934815458701844, 14.569687551919632, 22.06641653432163, 28.07849680702942, 16.88726270037943, 3.104457092965217, -1.3075967423986783, -3.2275864371108214, 2.0302806137315024, 28.352519905246265, 1.3877374079700935, -3.6467989415365403, 15.854421616126228, 5.982104384585665, 23.467849906267475, -9.712162243017175, 29.8842510763981, -9.118368493766258, -12.25300816730006, -9.207179137615173, 7.537393193042962, 38.54394363992537, -19.993896232705275, -2.9829364219077905, -14.864542784483147, -20.057946614556958, 22.62291150171398, 5.718258623828498, 12.739814288855865, 1.6484542995693632, -13.970410294314311, -27.640838710140333, 4.323447801968569, -6.265907050649203, 19.142088968293123, -12.339770528799882, -1.2054589115518808, -14.915467278104838, 30.920989160339168, 11.865935749175014, -2.5750780590148685, -5.887420744493872, -23.77399547974032, -19.092291366160808, 10.117413347617635, -12.155749329206365, 11.16761311108904, 19.886313119997258, 16.887064997648263, 31.2567311370498, 4.000666981312348, -20.119871137274245, -8.830030545541502, 7.284085065189299, -6.720296798793506, -3.5349411969258715, 17.569548409666883, 5.751094667104509, -10.832480212462931, 21.547481476524347, 28.470870886171635, 2.3980898504393724, 2.589750542910767, -0.17074605648679178, 0.2095676678730541, 33.885189293561766, -11.472759790312647, -11.330802430790934, -10.405085430215237, 24.592968127035647, -5.248680264739871, -11.834275532027867, -11.106201717070396, 0.4203096139637863, 15.819115829193327, -25.62368782779183, 12.54016778690385, 2.0718729461166583, 11.484151707903399, 3.0012077065672114, -24.86671740279969, -14.274523977941316, 6.626467486844284, 22.588830262691733, -4.956285563958541, -13.73759675712845, -14.857690032238237, 12.962936012494854, 7.822716848323087, -9.938898023682453, -25.395137521980754, 17.161367722470104, -24.965525215049748, 19.836909628255437, -0.030278465661788653, -8.892974997382424, 13.110289309832604, -14.031281201469692, -7.794562209795329, -27.99393193675026, -27.49149728331775, -10.705466679468909, 10.583987992024321, 1.363801113333815, -21.91697459704355, -9.489133454899468, 4.329101236822275, -21.607728875389185, 33.679597328806004, -2.763834292889745, 7.465863280470349, -9.8334183504081, -12.31173588664245, -9.870962533231188, -2.600164417829978, -17.585212300001782, 24.458401007777642, -20.890436799997854, 19.98703946887744, -26.193546617080045, 14.774129340771388, -14.732299875106401, -1.5156417466306686, 8.129375473896232, -4.564850879931262, -23.947577323597887, 12.402900796038056, 6.124390107240183, 2.422312838353185, 12.707779188487988, -3.066217604845243, 5.058709756993582, -7.282526408970463, -7.382141623652256, -15.62937506035964, 14.463743381912282, -12.940909988828158, -13.92025420413358, 24.293875131375227, -3.4400219034428097, -4.440982482812434, 31.581274708071287, -6.75491613338631, -4.593901012113669, -0.7394488221891896, -0.7491000023254096], \"y\": [-21.428186984520952, -0.8964866939017055, 3.442182705748135, 8.6794209331863, 8.445717589590569, -1.0721189794101689, 15.487059198911437, -8.866004786867656, 6.761939619198918, -10.06846993459159, -0.695384464635338, -13.865253496056006, 4.739853119360043, -14.63428513115587, 17.04641520663839, -3.448990795686508, -7.671109836991454, -4.927630287164062, -1.0894004914612805, -16.64589221569187, -14.225841711676741, 5.12613213933833, -13.652836354447969, 14.477181000365286, -0.01274725960510369, 16.68907009605102, 11.212983921565883, -1.2904572169036055, -7.325290156709806, 8.44001706821037, -18.3185747771385, -0.2266120340529033, -20.234694704092295, 1.3224582042624098, 8.31287577534234, -7.475957835229833, 12.0856130152594, -18.971203126246444, -12.866006726974955, 10.84614287829328, -21.34435686107301, -7.440347915943573, 12.543589252476028, 1.466447373152086, 3.13531984447924, -15.215057178106072, -7.693648605009424, 11.56728833506554, -3.267743968568305, 16.68339111493793, -12.038639374409987, 5.253260114080881, 20.552489128750775, 3.281166377351214, 3.7311693814746727, 2.957082704371384, -3.009750088535163, 0.38934787315455144, 0.676209410871509, -5.916660420024375, -14.395693960155311, -18.04355823902014, -17.13177839905889, -1.08269096926557, -17.96653796082406, 29.466861455633783, -11.46041734799937, -13.066827661920383, 11.36067706514723, -7.1125528667576114, 10.261309742389502, 12.073130057137867, 8.317958804248727, 4.127775112252157, 13.300805559254949, 3.8914514532611806, -11.422584123792024, -5.983327353632768, -4.976715240069353, 2.91347065877188, -3.5032185974480274, 5.740664323016668, 7.921579941721375, -3.143013926832664, -13.953383718095955, -14.396188554604654, 0.41045991612883004, 13.196380268209605, -10.40961679124506, -18.732897665896832, -4.6353839282228595, 8.960519796194776, 1.9969605146818319, 10.928218605431322, -7.7720683408109945, 11.74838275431441, -11.93732361114862, 17.98159374913858, -4.315883851686357, -17.59920644307636, 1.6894072772053481, 3.92947440530228, -13.505864812779, 1.5194425929058621, -12.194021843947528, 16.81223626462937, 10.434015506814005, -13.634843885022365, 5.4084494672846, 19.314410508279337, -14.597028184690142, 3.1902319131488035, -3.409218479819775, -7.977392008270911, -14.155176075298792, 12.690022328031919, 15.072433735520034, -2.918517657286897, 7.561384047918528, 10.272876972956032, 16.949928249683108, -13.474509319529815, 5.283759889075924, -10.082627506266574, -7.675607147450251, -9.455354778780004, -6.566471236736189, -12.60356588940505, -4.494972029381861, 0.39619172404655695, 13.188105798340922, 8.023334056032557, 2.5561581850570674, -8.964062535776401, 1.2426027997871099, -11.571686126624918, 16.296352208865553, -12.216676959276294, 11.75505636974452, -14.302396273189574, -11.326452580508946, -6.776296419667213, -15.390872756846623, 9.134127532653867, 4.620175721612661, -9.69383027135839, 14.429675381110119, 4.711216265127521, -21.895815117103552, 9.120604873972681, -9.316630483260385, 8.67275434153943, 15.797736594148514, 21.542574460200722, 7.539329714977647, -8.7714881023566, -0.576606551713079, 20.51466294613374, -7.573965540370813, 7.014501992484233, -9.348144786132119, 1.2069370109961508, -11.49225598455554, 3.834925310150825, -17.230078989801978, 0.2820500448943041, -1.1179921833870312, -10.933815654523794, 6.363579445406987, -0.4442061522943037, -9.282431725211023, -18.687449415755335, 13.518816768539846, 10.460574164028122, -2.421589025726671, 16.092497118064024, -5.1496284041089995, -4.72594262399552, 3.771497725331264, -1.0429429430517791, -11.87935247025075, -1.9887914462939684, 11.066007788672886, -13.472570215365709, -1.9660552699323415, -5.932190643202244, -5.455616297734695, 13.617820027029648, 1.1050931323859283, 18.35086833588686, -16.684722319598492, 1.2063444625086168, 20.472579768281168, 13.12549983278293, 2.156722690486031, 5.178359528671979, 2.6352849542993684, -16.998332304402435, 10.573713236501751, 3.0707894689028628, 15.28598358070217, 14.099137501446624, -7.998393581904891, 4.1360080596444, -0.9891807710736208, -2.9200388856872856, 42.219322032534, 2.093429080081747, 28.75782569079489, -3.398836141750722, -0.12212229349619838, 7.475276626086443, -12.545541869395555, -2.3329025281809175, 21.769384795855103], \"z\": [-20.354507605271863, 0.6616175449438991, -3.5089633530945954, 0.8882064065927314, 6.51654060158857, 4.7633318759202075, 1.6803723150952785, 10.904965685821432, -5.336341602893477, -9.946518991542565, -2.990182756354987, 2.478597029846924, -3.977852834154913, -10.673128596423197, 7.471881505937, -7.352414071083762, -2.5672805886669785, -8.178044819294323, -2.7683005551086524, -3.0505304488023084, -2.314637811614506, 3.6903276424563742, 7.632210788015369, 10.536676587076487, -15.139624519709635, -3.434484959189949, -7.985940015982806, -3.448917260483684, -1.504743197043601, -6.242577806371783, -6.151030886172009, 9.544218127002553, -14.659181826247064, 16.53259437779782, 5.544586715847308, -6.619632107434844, 4.306458786203264, -0.2980563805873272, 9.798284997448114, 6.496586463429878, 1.73517733937913, 6.821397115225165, 8.548251802818285, -3.4007452787094374, 4.051788678787703, 8.801461994310129, -1.5354163970208452, -0.3711013531990752, 1.0518666895650177, 8.31776053474233, 0.2918645966218807, -6.061193118141525, -3.4042378668328066, 6.562401912740575, 9.563075286996797, -5.275772238003879, -7.175926010338902, -5.453635829040229, 7.471883847856753, -7.4456317766591305, 2.424377173884293, 5.378494282726277, 13.874880217396932, -7.258467454368937, 4.546174209963803, 3.90183985638817, 3.759529917566931, -0.638072174986843, 17.035016022575377, -1.1793005257274882, 12.226713632897695, 2.5786884098434895, 12.713334876818001, -14.231345115831393, -4.707229165855372, 0.5494529879876724, -2.151724041500019, -12.770553911246385, -8.873853716709633, 4.5622217065049995, 4.941442744970378, 11.824035587943685, -1.9804922558881888, 1.25323059924135, 5.222525975073831, -4.618446761579863, -1.4830156407436705, 5.29236654638568, 4.096800979644152, 4.61382293654177, -3.7550258038461695, -5.516984401370214, -6.634277578397273, -9.149821067006934, -3.1532970055128757, -5.9882372499950955, 4.7854989505796395, 3.771943585823239, -4.552039535731512, -20.55075754197788, -8.05443458476037, -6.877381841529598, 10.549724563250004, -3.917868089117422, 3.3607426435239884, -5.639930626227334, 6.257803426942103, -4.904007068099441, -15.690135492683075, -7.793560100470686, -0.4086600341378333, -1.7023975499649455, -3.0725344002555914, -5.261159677449596, -2.255030603569557, 5.631948564272985, -4.251594428593823, 1.0129592248480395, -2.500807875376132, -6.070226871882615, 12.440814132886967, -1.048897434346878, 0.062352134166369116, 10.893173416939128, -4.019907135100863, 7.182238242367943, 13.561069701469998, 8.327954821375618, 5.744004051030931, -11.861515279882777, -3.708271667763381, 10.72446661241293, -2.464549245619356, 7.428473622753705, -12.071870325446637, 11.719487875213323, -7.71285038440571, 3.5951976128769947, 12.424479366595682, 1.5023590670419666, 0.2722995278277413, -0.14837311982796983, 17.35328640758905, 7.970195528151881, 1.739745266989764, 15.325038974456453, -1.46512380508124, -4.6328282745146, -10.553399176590757, -10.56254709893604, 6.6424290741416065, 0.8629379956162293, 12.75347483102933, -6.249869215974519, -8.113632781908379, -16.864162396619566, 7.25228199588726, 0.46063804860523133, 2.0978807142309215, 1.930533975311569, 6.715766292876188, 2.7838478017342223, -9.467094201308061, -3.391598758058593, -4.895637724441927, -9.480202736601404, -1.7143031540179592, 4.833552599480401, -2.125488786684562, 13.205077296953364, -3.717698047051996, -0.9646212816831449, 6.982563864615954, -0.9578340227446805, 15.385582594445381, 0.05070841018324801, -2.44787542607829, -16.90135643028637, 8.94150595399679, 8.37967309653209, -6.159240313811704, 0.8711358844893514, -10.529853284430656, -8.826176487688887, -5.594674898600762, 11.274481961551075, -8.54080275604138, 7.486727373467049, 8.64884392447276, -16.356658515454953, -5.678611401126226, 4.911903962254148, 1.4004314923809595, -4.550513143694546, -2.6237852880332495, -7.412939560078585, 7.186451637188042, 26.047431039126845, -2.97251262493272, -0.21324461984382548, 4.737241027348399, -7.618632697336363, 4.2006492151657415, -5.475005475436263, 0.6248011883486408, -1.0772881995791963, -0.17993117831309893, 0.26787043073696976, -10.865842309059465, -8.147304210443117, -0.959990577928046, -0.32373819824303335, 1.2647762945977745, 2.647584078474271, -0.07790058612873196]}],\n",
              "                        {\"coloraxis\": {\"colorbar\": {\"title\": {\"text\": \"target\"}}, \"colorscale\": [[0.0, \"#0d0887\"], [0.1111111111111111, \"#46039f\"], [0.2222222222222222, \"#7201a8\"], [0.3333333333333333, \"#9c179e\"], [0.4444444444444444, \"#bd3786\"], [0.5555555555555556, \"#d8576b\"], [0.6666666666666666, \"#ed7953\"], [0.7777777777777778, \"#fb9f3a\"], [0.8888888888888888, \"#fdca26\"], [1.0, \"#f0f921\"]]}, \"height\": 600, \"legend\": {\"tracegroupgap\": 0}, \"plot_bgcolor\": \"white\", \"scene\": {\"bgcolor\": \"white\", \"domain\": {\"x\": [0.0, 1.0], \"y\": [0.0, 1.0]}, \"xaxis\": {\"backgroundcolor\": \"rgb(200, 200, 230)\", \"gridcolor\": \"white\", \"showbackground\": true, \"title\": {\"text\": \"PC 1\"}, \"zerolinecolor\": \"white\"}, \"yaxis\": {\"backgroundcolor\": \"rgb(230, 200,230)\", \"gridcolor\": \"white\", \"showbackground\": true, \"title\": {\"text\": \"PC 2\"}, \"zerolinecolor\": \"white\"}, \"zaxis\": {\"backgroundcolor\": \"rgb(230, 230,200)\", \"gridcolor\": \"white\", \"showbackground\": true, \"title\": {\"text\": \"PC 3\"}, \"zerolinecolor\": \"white\"}}, \"template\": {\"data\": {\"bar\": [{\"error_x\": {\"color\": \"rgb(36,36,36)\"}, \"error_y\": {\"color\": \"rgb(36,36,36)\"}, \"marker\": {\"line\": {\"color\": \"white\", \"width\": 0.5}}, \"type\": \"bar\"}], \"barpolar\": [{\"marker\": {\"line\": {\"color\": \"white\", \"width\": 0.5}}, \"type\": \"barpolar\"}], \"carpet\": [{\"aaxis\": {\"endlinecolor\": \"rgb(36,36,36)\", \"gridcolor\": \"white\", \"linecolor\": \"white\", \"minorgridcolor\": \"white\", \"startlinecolor\": \"rgb(36,36,36)\"}, \"baxis\": {\"endlinecolor\": \"rgb(36,36,36)\", \"gridcolor\": \"white\", \"linecolor\": \"white\", \"minorgridcolor\": \"white\", \"startlinecolor\": \"rgb(36,36,36)\"}, \"type\": \"carpet\"}], \"choropleth\": [{\"colorbar\": {\"outlinewidth\": 10, \"tickcolor\": \"rgb(36,36,36)\", \"ticklen\": 8, \"ticks\": \"outside\", \"tickwidth\": 2}, \"type\": \"choropleth\"}], \"contour\": [{\"colorbar\": {\"outlinewidth\": 10, \"tickcolor\": \"rgb(36,36,36)\", \"ticklen\": 8, \"ticks\": \"outside\", \"tickwidth\": 2}, \"colorscale\": [[0.0, \"#440154\"], [0.1111111111111111, \"#482878\"], [0.2222222222222222, \"#3e4989\"], [0.3333333333333333, \"#31688e\"], [0.4444444444444444, \"#26828e\"], [0.5555555555555556, \"#1f9e89\"], [0.6666666666666666, \"#35b779\"], [0.7777777777777778, \"#6ece58\"], [0.8888888888888888, \"#b5de2b\"], [1.0, \"#fde725\"]], \"type\": \"contour\"}], \"contourcarpet\": [{\"colorbar\": {\"outlinewidth\": 10, \"tickcolor\": \"rgb(36,36,36)\", \"ticklen\": 8, \"ticks\": \"outside\", \"tickwidth\": 2}, \"type\": \"contourcarpet\"}], \"heatmap\": [{\"colorbar\": {\"outlinewidth\": 10, \"tickcolor\": \"rgb(36,36,36)\", \"ticklen\": 8, \"ticks\": \"outside\", \"tickwidth\": 2}, \"colorscale\": [[0.0, \"#440154\"], [0.1111111111111111, \"#482878\"], [0.2222222222222222, \"#3e4989\"], [0.3333333333333333, \"#31688e\"], [0.4444444444444444, \"#26828e\"], [0.5555555555555556, \"#1f9e89\"], [0.6666666666666666, \"#35b779\"], [0.7777777777777778, \"#6ece58\"], [0.8888888888888888, \"#b5de2b\"], [1.0, \"#fde725\"]], \"type\": \"heatmap\"}], \"heatmapgl\": [{\"colorbar\": {\"outlinewidth\": 10, \"tickcolor\": \"rgb(36,36,36)\", \"ticklen\": 8, \"ticks\": \"outside\", \"tickwidth\": 2}, \"colorscale\": [[0.0, \"#440154\"], [0.1111111111111111, \"#482878\"], [0.2222222222222222, \"#3e4989\"], [0.3333333333333333, \"#31688e\"], [0.4444444444444444, \"#26828e\"], [0.5555555555555556, \"#1f9e89\"], [0.6666666666666666, \"#35b779\"], [0.7777777777777778, \"#6ece58\"], [0.8888888888888888, \"#b5de2b\"], [1.0, \"#fde725\"]], \"type\": \"heatmapgl\"}], \"histogram\": [{\"marker\": {\"line\": {\"color\": \"white\", \"width\": 0.6}}, \"type\": \"histogram\"}], \"histogram2d\": [{\"colorbar\": {\"outlinewidth\": 10, \"tickcolor\": \"rgb(36,36,36)\", \"ticklen\": 8, \"ticks\": \"outside\", \"tickwidth\": 2}, \"colorscale\": [[0.0, \"#440154\"], [0.1111111111111111, \"#482878\"], [0.2222222222222222, \"#3e4989\"], [0.3333333333333333, \"#31688e\"], [0.4444444444444444, \"#26828e\"], [0.5555555555555556, \"#1f9e89\"], [0.6666666666666666, \"#35b779\"], [0.7777777777777778, \"#6ece58\"], [0.8888888888888888, \"#b5de2b\"], [1.0, \"#fde725\"]], \"type\": \"histogram2d\"}], \"histogram2dcontour\": [{\"colorbar\": {\"outlinewidth\": 10, \"tickcolor\": \"rgb(36,36,36)\", \"ticklen\": 8, \"ticks\": \"outside\", \"tickwidth\": 2}, \"colorscale\": [[0.0, \"#440154\"], [0.1111111111111111, \"#482878\"], [0.2222222222222222, \"#3e4989\"], [0.3333333333333333, \"#31688e\"], [0.4444444444444444, \"#26828e\"], [0.5555555555555556, \"#1f9e89\"], [0.6666666666666666, \"#35b779\"], [0.7777777777777778, \"#6ece58\"], [0.8888888888888888, \"#b5de2b\"], [1.0, \"#fde725\"]], \"type\": \"histogram2dcontour\"}], \"mesh3d\": [{\"colorbar\": {\"outlinewidth\": 10, \"tickcolor\": \"rgb(36,36,36)\", \"ticklen\": 8, \"ticks\": \"outside\", \"tickwidth\": 2}, \"type\": \"mesh3d\"}], \"parcoords\": [{\"line\": {\"colorbar\": {\"outlinewidth\": 10, \"tickcolor\": \"rgb(36,36,36)\", \"ticklen\": 8, \"ticks\": \"outside\", \"tickwidth\": 2}}, \"type\": \"parcoords\"}], \"pie\": [{\"automargin\": true, \"type\": \"pie\"}], \"scatter\": [{\"marker\": {\"colorbar\": {\"outlinewidth\": 10, \"tickcolor\": \"rgb(36,36,36)\", \"ticklen\": 8, \"ticks\": \"outside\", \"tickwidth\": 2}}, \"type\": \"scatter\"}], \"scatter3d\": [{\"line\": {\"colorbar\": {\"outlinewidth\": 10, \"tickcolor\": \"rgb(36,36,36)\", \"ticklen\": 8, \"ticks\": \"outside\", \"tickwidth\": 2}}, \"marker\": {\"colorbar\": {\"outlinewidth\": 10, \"tickcolor\": \"rgb(36,36,36)\", \"ticklen\": 8, \"ticks\": \"outside\", \"tickwidth\": 2}}, \"type\": \"scatter3d\"}], \"scattercarpet\": [{\"marker\": {\"colorbar\": {\"outlinewidth\": 10, \"tickcolor\": \"rgb(36,36,36)\", \"ticklen\": 8, \"ticks\": \"outside\", \"tickwidth\": 2}}, \"type\": \"scattercarpet\"}], \"scattergeo\": [{\"marker\": {\"colorbar\": {\"outlinewidth\": 10, \"tickcolor\": \"rgb(36,36,36)\", \"ticklen\": 8, \"ticks\": \"outside\", \"tickwidth\": 2}}, \"type\": \"scattergeo\"}], \"scattergl\": [{\"marker\": {\"colorbar\": {\"outlinewidth\": 10, \"tickcolor\": \"rgb(36,36,36)\", \"ticklen\": 8, \"ticks\": \"outside\", \"tickwidth\": 2}}, \"type\": \"scattergl\"}], \"scattermapbox\": [{\"marker\": {\"colorbar\": {\"outlinewidth\": 10, \"tickcolor\": \"rgb(36,36,36)\", \"ticklen\": 8, \"ticks\": \"outside\", \"tickwidth\": 2}}, \"type\": \"scattermapbox\"}], \"scatterpolar\": [{\"marker\": {\"colorbar\": {\"outlinewidth\": 10, \"tickcolor\": \"rgb(36,36,36)\", \"ticklen\": 8, \"ticks\": \"outside\", \"tickwidth\": 2}}, \"type\": \"scatterpolar\"}], \"scatterpolargl\": [{\"marker\": {\"colorbar\": {\"outlinewidth\": 10, \"tickcolor\": \"rgb(36,36,36)\", \"ticklen\": 8, \"ticks\": \"outside\", \"tickwidth\": 2}}, \"type\": \"scatterpolargl\"}], \"scatterternary\": [{\"marker\": {\"colorbar\": {\"outlinewidth\": 10, \"tickcolor\": \"rgb(36,36,36)\", \"ticklen\": 8, \"ticks\": \"outside\", \"tickwidth\": 2}}, \"type\": \"scatterternary\"}], \"surface\": [{\"colorbar\": {\"outlinewidth\": 10, \"tickcolor\": \"rgb(36,36,36)\", \"ticklen\": 8, \"ticks\": \"outside\", \"tickwidth\": 2}, \"colorscale\": [[0.0, \"#440154\"], [0.1111111111111111, \"#482878\"], [0.2222222222222222, \"#3e4989\"], [0.3333333333333333, \"#31688e\"], [0.4444444444444444, \"#26828e\"], [0.5555555555555556, \"#1f9e89\"], [0.6666666666666666, \"#35b779\"], [0.7777777777777778, \"#6ece58\"], [0.8888888888888888, \"#b5de2b\"], [1.0, \"#fde725\"]], \"type\": \"surface\"}], \"table\": [{\"cells\": {\"fill\": {\"color\": \"rgb(237,237,237)\"}, \"line\": {\"color\": \"white\"}}, \"header\": {\"fill\": {\"color\": \"rgb(217,217,217)\"}, \"line\": {\"color\": \"white\"}}, \"type\": \"table\"}]}, \"layout\": {\"annotationdefaults\": {\"arrowhead\": 0, \"arrowwidth\": 1}, \"coloraxis\": {\"colorbar\": {\"outlinewidth\": 10, \"tickcolor\": \"rgb(36,36,36)\", \"ticklen\": 8, \"ticks\": \"outside\", \"tickwidth\": 2}}, \"colorscale\": {\"diverging\": [[0.0, \"rgb(103,0,31)\"], [0.1, \"rgb(178,24,43)\"], [0.2, \"rgb(214,96,77)\"], [0.3, \"rgb(244,165,130)\"], [0.4, \"rgb(253,219,199)\"], [0.5, \"rgb(247,247,247)\"], [0.6, \"rgb(209,229,240)\"], [0.7, \"rgb(146,197,222)\"], [0.8, \"rgb(67,147,195)\"], [0.9, \"rgb(33,102,172)\"], [1.0, \"rgb(5,48,97)\"]], \"sequential\": [[0.0, \"#440154\"], [0.1111111111111111, \"#482878\"], [0.2222222222222222, \"#3e4989\"], [0.3333333333333333, \"#31688e\"], [0.4444444444444444, \"#26828e\"], [0.5555555555555556, \"#1f9e89\"], [0.6666666666666666, \"#35b779\"], [0.7777777777777778, \"#6ece58\"], [0.8888888888888888, \"#b5de2b\"], [1.0, \"#fde725\"]], \"sequentialminus\": [[0.0, \"#440154\"], [0.1111111111111111, \"#482878\"], [0.2222222222222222, \"#3e4989\"], [0.3333333333333333, \"#31688e\"], [0.4444444444444444, \"#26828e\"], [0.5555555555555556, \"#1f9e89\"], [0.6666666666666666, \"#35b779\"], [0.7777777777777778, \"#6ece58\"], [0.8888888888888888, \"#b5de2b\"], [1.0, \"#fde725\"]]}, \"colorway\": [\"#1F77B4\", \"#FF7F0E\", \"#2CA02C\", \"#D62728\", \"#9467BD\", \"#8C564B\", \"#E377C2\", \"#7F7F7F\", \"#BCBD22\", \"#17BECF\"], \"font\": {\"color\": \"rgb(36,36,36)\"}, \"geo\": {\"bgcolor\": \"white\", \"lakecolor\": \"white\", \"landcolor\": \"white\", \"showlakes\": true, \"showland\": true, \"subunitcolor\": \"white\"}, \"hoverlabel\": {\"align\": \"left\"}, \"hovermode\": \"closest\", \"mapbox\": {\"style\": \"light\"}, \"paper_bgcolor\": \"white\", \"plot_bgcolor\": \"white\", \"polar\": {\"angularaxis\": {\"gridcolor\": \"rgb(232,232,232)\", \"linecolor\": \"rgb(36,36,36)\", \"showgrid\": false, \"showline\": true, \"ticks\": \"outside\"}, \"bgcolor\": \"white\", \"radialaxis\": {\"gridcolor\": \"rgb(232,232,232)\", \"linecolor\": \"rgb(36,36,36)\", \"showgrid\": false, \"showline\": true, \"ticks\": \"outside\"}}, \"scene\": {\"xaxis\": {\"backgroundcolor\": \"white\", \"gridcolor\": \"rgb(232,232,232)\", \"gridwidth\": 2, \"linecolor\": \"rgb(36,36,36)\", \"showbackground\": true, \"showgrid\": false, \"showline\": true, \"ticks\": \"outside\", \"zeroline\": false, \"zerolinecolor\": \"rgb(36,36,36)\"}, \"yaxis\": {\"backgroundcolor\": \"white\", \"gridcolor\": \"rgb(232,232,232)\", \"gridwidth\": 2, \"linecolor\": \"rgb(36,36,36)\", \"showbackground\": true, \"showgrid\": false, \"showline\": true, \"ticks\": \"outside\", \"zeroline\": false, \"zerolinecolor\": \"rgb(36,36,36)\"}, \"zaxis\": {\"backgroundcolor\": \"white\", \"gridcolor\": \"rgb(232,232,232)\", \"gridwidth\": 2, \"linecolor\": \"rgb(36,36,36)\", \"showbackground\": true, \"showgrid\": false, \"showline\": true, \"ticks\": \"outside\", \"zeroline\": false, \"zerolinecolor\": \"rgb(36,36,36)\"}}, \"shapedefaults\": {\"fillcolor\": \"black\", \"line\": {\"width\": 0}, \"opacity\": 0.3}, \"ternary\": {\"aaxis\": {\"gridcolor\": \"rgb(232,232,232)\", \"linecolor\": \"rgb(36,36,36)\", \"showgrid\": false, \"showline\": true, \"ticks\": \"outside\"}, \"baxis\": {\"gridcolor\": \"rgb(232,232,232)\", \"linecolor\": \"rgb(36,36,36)\", \"showgrid\": false, \"showline\": true, \"ticks\": \"outside\"}, \"bgcolor\": \"white\", \"caxis\": {\"gridcolor\": \"rgb(232,232,232)\", \"linecolor\": \"rgb(36,36,36)\", \"showgrid\": false, \"showline\": true, \"ticks\": \"outside\"}}, \"title\": {\"x\": 0.05}, \"xaxis\": {\"automargin\": true, \"gridcolor\": \"rgb(232,232,232)\", \"linecolor\": \"rgb(36,36,36)\", \"showgrid\": false, \"showline\": true, \"ticks\": \"outside\", \"title\": {\"standoff\": 15}, \"zeroline\": false, \"zerolinecolor\": \"rgb(36,36,36)\"}, \"yaxis\": {\"automargin\": true, \"gridcolor\": \"rgb(232,232,232)\", \"linecolor\": \"rgb(36,36,36)\", \"showgrid\": false, \"showline\": true, \"ticks\": \"outside\", \"title\": {\"standoff\": 15}, \"zeroline\": false, \"zerolinecolor\": \"rgb(36,36,36)\"}}}, \"title\": {\"text\": \"Total Explained Variance: 99.39%\"}, \"width\": 800},\n",
              "                        {\"responsive\": true}\n",
              "                    ).then(function(){\n",
              "                            \n",
              "var gd = document.getElementById('dfa6d532-c9cc-49f2-bd89-07c0f51c618a');\n",
              "var x = new MutationObserver(function (mutations, observer) {{\n",
              "        var display = window.getComputedStyle(gd).display;\n",
              "        if (!display || display === 'none') {{\n",
              "            console.log([gd, 'removed!']);\n",
              "            Plotly.purge(gd);\n",
              "            observer.disconnect();\n",
              "        }}\n",
              "}});\n",
              "\n",
              "// Listen for the removal of the full notebook cells\n",
              "var notebookContainer = gd.closest('#notebook-container');\n",
              "if (notebookContainer) {{\n",
              "    x.observe(notebookContainer, {childList: true});\n",
              "}}\n",
              "\n",
              "// Listen for the clearing of the current output cell\n",
              "var outputEl = gd.closest('.output');\n",
              "if (outputEl) {{\n",
              "    x.observe(outputEl, {childList: true});\n",
              "}}\n",
              "\n",
              "                        })\n",
              "                };\n",
              "                \n",
              "            </script>\n",
              "        </div>\n",
              "</body>\n",
              "</html>"
            ]
          },
          "metadata": {
            "tags": []
          }
        }
      ]
    },
    {
      "cell_type": "markdown",
      "metadata": {
        "id": "doZMUq8LbjsD"
      },
      "source": [
        "###**Feature importance** "
      ]
    },
    {
      "cell_type": "code",
      "metadata": {
        "id": "1I34fqkiwq8O"
      },
      "source": [
        "# train-test-split \n",
        "X_y_train_test = train_test_split(X, y, test_size = 0.2, shuffle=True, random_state = 0)\n",
        "X_train, X_test, y_train, y_test =X_y_train_test"
      ],
      "execution_count": 157,
      "outputs": []
    },
    {
      "cell_type": "code",
      "metadata": {
        "id": "8gJlAuvIdFfK"
      },
      "source": [
        "rf = RandomForestClassifier(random_state=77)"
      ],
      "execution_count": 158,
      "outputs": []
    },
    {
      "cell_type": "markdown",
      "metadata": {
        "id": "VrItu27_xPDN"
      },
      "source": [
        "##**Predict score**"
      ]
    },
    {
      "cell_type": "code",
      "metadata": {
        "id": "GIoaXZwRxRJS"
      },
      "source": [
        "# Pipeline\n",
        "\n",
        "def fit_predict_score(model, X_y_train_test):\n",
        "    X_train, X_test, y_train, y_test = X_y_train_test\n",
        "    # extracts and flattens the series y_train which has series and values to values only\n",
        "    model.fit(X_train, y_train.values.ravel())\n",
        "    y_pred = model.predict(X_test)\n",
        "    score = accuracy_score(y_test, y_pred)\n",
        "    print('Accuracy Score on test data :',score)\n",
        "    return"
      ],
      "execution_count": 159,
      "outputs": []
    },
    {
      "cell_type": "code",
      "metadata": {
        "colab": {
          "base_uri": "https://localhost:8080/"
        },
        "id": "1Cgz5janxVuC",
        "outputId": "365a76db-94d5-4b74-f52d-211591c9755e"
      },
      "source": [
        "fit_predict_score(rf, X_y_train_test)"
      ],
      "execution_count": 160,
      "outputs": [
        {
          "output_type": "stream",
          "text": [
            "Accuracy Score on test data : 0.7209302325581395\n"
          ],
          "name": "stdout"
        }
      ]
    },
    {
      "cell_type": "markdown",
      "metadata": {
        "id": "KcslE7LNxak1"
      },
      "source": [
        "Normalization(minmax scaler)"
      ]
    },
    {
      "cell_type": "code",
      "metadata": {
        "id": "0GeghlnkxhaI"
      },
      "source": [
        "# Pipeline with MinMaxScaler()\n",
        "\n",
        "def MMScale_fit_predict_score(model, X_y_train_test):\n",
        "    X_train, X_test, y_train, y_test = X_y_train_test\n",
        "    scaler = MinMaxScaler() \n",
        "    X_train_scaled = scaler.fit_transform(X_train) \n",
        "    # extracts and flattens the series y_train which has series and values to values only\n",
        "    model.fit(X_train_scaled, y_train.values.ravel()) \n",
        "    X_test_scaled = scaler.transform(X_test) \n",
        "    y_pred = model.predict(X_test_scaled) \n",
        "    score = accuracy_score(y_test, y_pred)\n",
        "    print('Accuracy Score on test data :',score)\n",
        "    return "
      ],
      "execution_count": 161,
      "outputs": []
    },
    {
      "cell_type": "code",
      "metadata": {
        "colab": {
          "base_uri": "https://localhost:8080/",
          "height": 362
        },
        "id": "1TW75IiipjQL",
        "outputId": "e53bcf04-7763-4f60-e63d-3966eccfb525"
      },
      "source": [
        "# Random forest Feature Importance\n",
        "# Getting the feature importance\n",
        "feature_importances_=rf.feature_importances_\n",
        "feature_importances=pd.DataFrame({'Feature_name':X.columns, 'Feature_importance':feature_importances_})\n",
        "\n",
        "fig, ax=plt.subplots(1, figsize=(10,5))\n",
        "sns.barplot(y='Feature_name', x='Feature_importance', data=feature_importances, ax=ax)\n",
        "\n",
        "# For making the graph look good\n",
        "plt.xticks(fontsize=12, rotation=0); \n",
        "plt.yticks(fontsize=14);\n",
        "\n",
        "plt.xlabel('Feature Importance',fontsize=18)\n",
        "plt.ylabel('Feature Name',fontsize=18)"
      ],
      "execution_count": 162,
      "outputs": [
        {
          "output_type": "execute_result",
          "data": {
            "text/plain": [
              "Text(0, 0.5, 'Feature Name')"
            ]
          },
          "metadata": {
            "tags": []
          },
          "execution_count": 162
        },
        {
          "output_type": "display_data",
          "data": {
            "image/png": "[encoded data removed]",
            "text/plain": [
              "<Figure size 720x360 with 1 Axes>"
            ]
          },
          "metadata": {
            "tags": [],
            "needs_background": "light"
          }
        }
      ]
    },
    {
      "cell_type": "markdown",
      "metadata": {
        "id": "3griB_Gayu-x"
      },
      "source": [
        "#Conclusion\n",
        "######Most of the models gave a very high score to the data especially after scaling the data\n",
        "###### Also the 5 most important factors for a job placement are ssc_p, degree_p, hsc_p, mba_p and etest_p.\n",
        "##### Since these five factors contributes the most for determining the placement guarantee for students, it is okay to drop the remaining features. So I will be droping all the remaining features."
      ]
    },
    {
      "cell_type": "code",
      "metadata": {
        "id": "TPmDRAM5iaIq"
      },
      "source": [
        "dff = dff.drop('gender_F',axis=1)\n",
        "dff = dff.drop('gender_M',axis=1)\n",
        "dff = dff.drop('ssc_b_Central',axis=1)\n",
        "dff = dff.drop('ssc_b_Others',axis=1)\n",
        "dff = dff.drop('hsc_b_Central',axis=1)\n",
        "dff = dff.drop('hsc_b_Others',axis=1)\n",
        "dff = dff.drop('hsc_s_Arts',axis=1)\n",
        "dff = dff.drop('hsc_s_Commerce',axis=1)\n",
        "dff = dff.drop('hsc_s_Science',axis=1)\n",
        "dff = dff.drop('degree_t_Comm&Mgmt',axis=1)\n",
        "dff = dff.drop('degree_t_Others',axis=1)\n",
        "dff = dff.drop('degree_t_Sci&Tech',axis=1)\n",
        "dff = dff.drop('workex_No',axis=1)\n",
        "dff = dff.drop('workex_Yes',axis=1)\n",
        "dff = dff.drop('specialisation_Mkt&Fin',axis=1)\n",
        "dff = dff.drop('specialisation_Mkt&HR',axis=1)"
      ],
      "execution_count": 163,
      "outputs": []
    },
    {
      "cell_type": "code",
      "metadata": {
        "colab": {
          "base_uri": "https://localhost:8080/",
          "height": 198
        },
        "id": "qbNSdIwavkG2",
        "outputId": "ac25c8f3-fa5c-4746-8782-0dcca68c1fc0"
      },
      "source": [
        "df.head()"
      ],
      "execution_count": 164,
      "outputs": [
        {
          "output_type": "execute_result",
          "data": {
            "text/html": [
              "<div>\n",
              "<style scoped>\n",
              "    .dataframe tbody tr th:only-of-type {\n",
              "        vertical-align: middle;\n",
              "    }\n",
              "\n",
              "    .dataframe tbody tr th {\n",
              "        vertical-align: top;\n",
              "    }\n",
              "\n",
              "    .dataframe thead th {\n",
              "        text-align: right;\n",
              "    }\n",
              "</style>\n",
              "<table border=\"1\" class=\"dataframe\">\n",
              "  <thead>\n",
              "    <tr style=\"text-align: right;\">\n",
              "      <th></th>\n",
              "      <th>gender</th>\n",
              "      <th>ssc_p</th>\n",
              "      <th>ssc_b</th>\n",
              "      <th>hsc_p</th>\n",
              "      <th>hsc_b</th>\n",
              "      <th>hsc_s</th>\n",
              "      <th>degree_p</th>\n",
              "      <th>degree_t</th>\n",
              "      <th>workex</th>\n",
              "      <th>etest_p</th>\n",
              "      <th>specialisation</th>\n",
              "      <th>mba_p</th>\n",
              "      <th>status</th>\n",
              "    </tr>\n",
              "  </thead>\n",
              "  <tbody>\n",
              "    <tr>\n",
              "      <th>0</th>\n",
              "      <td>M</td>\n",
              "      <td>67.00</td>\n",
              "      <td>Others</td>\n",
              "      <td>91.00</td>\n",
              "      <td>Others</td>\n",
              "      <td>Commerce</td>\n",
              "      <td>58.00</td>\n",
              "      <td>Sci&amp;Tech</td>\n",
              "      <td>No</td>\n",
              "      <td>55.0</td>\n",
              "      <td>Mkt&amp;HR</td>\n",
              "      <td>58.80</td>\n",
              "      <td>1</td>\n",
              "    </tr>\n",
              "    <tr>\n",
              "      <th>1</th>\n",
              "      <td>M</td>\n",
              "      <td>79.33</td>\n",
              "      <td>Central</td>\n",
              "      <td>78.33</td>\n",
              "      <td>Others</td>\n",
              "      <td>Science</td>\n",
              "      <td>77.48</td>\n",
              "      <td>Sci&amp;Tech</td>\n",
              "      <td>Yes</td>\n",
              "      <td>86.5</td>\n",
              "      <td>Mkt&amp;Fin</td>\n",
              "      <td>66.28</td>\n",
              "      <td>1</td>\n",
              "    </tr>\n",
              "    <tr>\n",
              "      <th>2</th>\n",
              "      <td>M</td>\n",
              "      <td>65.00</td>\n",
              "      <td>Central</td>\n",
              "      <td>68.00</td>\n",
              "      <td>Central</td>\n",
              "      <td>Arts</td>\n",
              "      <td>64.00</td>\n",
              "      <td>Comm&amp;Mgmt</td>\n",
              "      <td>No</td>\n",
              "      <td>75.0</td>\n",
              "      <td>Mkt&amp;Fin</td>\n",
              "      <td>57.80</td>\n",
              "      <td>1</td>\n",
              "    </tr>\n",
              "    <tr>\n",
              "      <th>3</th>\n",
              "      <td>M</td>\n",
              "      <td>56.00</td>\n",
              "      <td>Central</td>\n",
              "      <td>52.00</td>\n",
              "      <td>Central</td>\n",
              "      <td>Science</td>\n",
              "      <td>52.00</td>\n",
              "      <td>Sci&amp;Tech</td>\n",
              "      <td>No</td>\n",
              "      <td>66.0</td>\n",
              "      <td>Mkt&amp;HR</td>\n",
              "      <td>59.43</td>\n",
              "      <td>0</td>\n",
              "    </tr>\n",
              "    <tr>\n",
              "      <th>4</th>\n",
              "      <td>M</td>\n",
              "      <td>85.80</td>\n",
              "      <td>Central</td>\n",
              "      <td>73.60</td>\n",
              "      <td>Central</td>\n",
              "      <td>Commerce</td>\n",
              "      <td>73.30</td>\n",
              "      <td>Comm&amp;Mgmt</td>\n",
              "      <td>No</td>\n",
              "      <td>96.8</td>\n",
              "      <td>Mkt&amp;Fin</td>\n",
              "      <td>55.50</td>\n",
              "      <td>1</td>\n",
              "    </tr>\n",
              "  </tbody>\n",
              "</table>\n",
              "</div>"
            ],
            "text/plain": [
              "  gender  ssc_p    ssc_b  hsc_p  ... etest_p specialisation  mba_p status\n",
              "0      M  67.00   Others  91.00  ...    55.0         Mkt&HR  58.80      1\n",
              "1      M  79.33  Central  78.33  ...    86.5        Mkt&Fin  66.28      1\n",
              "2      M  65.00  Central  68.00  ...    75.0        Mkt&Fin  57.80      1\n",
              "3      M  56.00  Central  52.00  ...    66.0         Mkt&HR  59.43      0\n",
              "4      M  85.80  Central  73.60  ...    96.8        Mkt&Fin  55.50      1\n",
              "\n",
              "[5 rows x 13 columns]"
            ]
          },
          "metadata": {
            "tags": []
          },
          "execution_count": 164
        }
      ]
    },
    {
      "cell_type": "markdown",
      "metadata": {
        "id": "E0wB0suc9xo6"
      },
      "source": [
        "###**Machine Learning**"
      ]
    },
    {
      "cell_type": "code",
      "metadata": {
        "id": "dEeoWrnO95S9"
      },
      "source": [
        "#scaling\n",
        "ss = StandardScaler()\n",
        "X_train_ss = ss.fit_transform(X)\n",
        "X_test_ss = ss.transform(X_test)"
      ],
      "execution_count": 165,
      "outputs": []
    },
    {
      "cell_type": "markdown",
      "metadata": {
        "id": "L5zSzfiX-jKa"
      },
      "source": [
        "**Logistic Regression**"
      ]
    },
    {
      "cell_type": "code",
      "metadata": {
        "id": "YfPW7wKc-4HZ"
      },
      "source": [
        "from sklearn.metrics import classification_report"
      ],
      "execution_count": 166,
      "outputs": []
    },
    {
      "cell_type": "code",
      "metadata": {
        "colab": {
          "base_uri": "https://localhost:8080/"
        },
        "id": "y5iOCbmq-F1-",
        "outputId": "31164328-270a-4e33-e64f-a77044a3b32c"
      },
      "source": [
        "from sklearn.linear_model import LogisticRegression\n",
        "lr = LogisticRegression()\n",
        "lr.fit(X_train_ss,y)\n",
        "Y_pred=lr.predict(X_test_ss)\n",
        "# Evaluation\n",
        "print(classification_report(y_test,Y_pred))"
      ],
      "execution_count": 167,
      "outputs": [
        {
          "output_type": "stream",
          "text": [
            "              precision    recall  f1-score   support\n",
            "\n",
            "           0       0.79      0.69      0.73        16\n",
            "           1       0.83      0.89      0.86        27\n",
            "\n",
            "    accuracy                           0.81        43\n",
            "   macro avg       0.81      0.79      0.80        43\n",
            "weighted avg       0.81      0.81      0.81        43\n",
            "\n"
          ],
          "name": "stdout"
        }
      ]
    },
    {
      "cell_type": "markdown",
      "metadata": {
        "id": "LgqLWho-CICl"
      },
      "source": [
        "**Naive Bayes**"
      ]
    },
    {
      "cell_type": "code",
      "metadata": {
        "colab": {
          "base_uri": "https://localhost:8080/"
        },
        "id": "IXtTgpQFB6Su",
        "outputId": "3993d32f-06d9-4a65-b14a-f4bb0e9b1be9"
      },
      "source": [
        "#naive bayes\n",
        "from sklearn.naive_bayes import BernoulliNB\n",
        "m6 = BernoulliNB()\n",
        "m6.fit(X_train, y_train)\n",
        "\n",
        "m6_pred = m6.predict(X_test)\n",
        "m6_pred\n",
        "print(\"naive bayes\", \"\\n\")\n",
        "print(\"accuracy score :\", accuracy_score(m6_pred, y_test))"
      ],
      "execution_count": 168,
      "outputs": [
        {
          "output_type": "stream",
          "text": [
            "naive bayes \n",
            "\n",
            "accuracy score : 0.6511627906976745\n"
          ],
          "name": "stdout"
        }
      ]
    },
    {
      "cell_type": "markdown",
      "metadata": {
        "id": "ffI7asM-CLH7"
      },
      "source": [
        "**Bernoulli Naive Bayes**"
      ]
    },
    {
      "cell_type": "code",
      "metadata": {
        "colab": {
          "base_uri": "https://localhost:8080/"
        },
        "id": "pIOHyGCSBVJF",
        "outputId": "ffca72f1-e8c6-4d78-9c3a-16c0901dbd40"
      },
      "source": [
        "#bernoulli naive bayes\n",
        "\n",
        "from sklearn.model_selection import GridSearchCV \n",
        "params = {'alpha': [0.25, 0.5, 1]}\n",
        "grid6 = GridSearchCV(estimator = m6, param_grid = params , scoring = \"accuracy\", cv = 10)\n",
        "grid6.fit(X_train, y_train)\n",
        "best_acc = grid6.best_score_\n",
        "param = grid6.best_params_\n",
        "print(\"best accuracy :\", best_acc*100)\n",
        "print(\"best parameters :\", param )"
      ],
      "execution_count": 169,
      "outputs": [
        {
          "output_type": "stream",
          "text": [
            "best accuracy : 67.3529411764706\n",
            "best parameters : {'alpha': 0.25}\n"
          ],
          "name": "stdout"
        }
      ]
    },
    {
      "cell_type": "code",
      "metadata": {
        "id": "E-mheRa7CPa-"
      },
      "source": [
        ""
      ],
      "execution_count": 169,
      "outputs": []
    },
    {
      "cell_type": "markdown",
      "metadata": {
        "id": "jBjBZ-t4CPwa"
      },
      "source": [
        "**SVM**"
      ]
    },
    {
      "cell_type": "code",
      "metadata": {
        "colab": {
          "base_uri": "https://localhost:8080/"
        },
        "id": "HAwKLh1OCM81",
        "outputId": "d6035236-b1ef-4546-c10a-eafe788eb8d5"
      },
      "source": [
        "#svm\n",
        "from sklearn.svm import SVC\n",
        "m2 = SVC()\n",
        "m2.fit(X_train, y_train)\n",
        "\n",
        "m2_pred = m2.predict(X_test)\n",
        "m2_pred\n",
        "print(\"SVC\", \"\\n\")\n",
        "print(\"accuracy score :\", accuracy_score(m2_pred, y_test))"
      ],
      "execution_count": 170,
      "outputs": [
        {
          "output_type": "stream",
          "text": [
            "SVC \n",
            "\n",
            "accuracy score : 0.7441860465116279\n"
          ],
          "name": "stdout"
        }
      ]
    }
  ]
}